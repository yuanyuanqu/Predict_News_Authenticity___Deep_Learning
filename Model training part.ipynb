{
 "cells": [
  {
   "cell_type": "markdown",
   "metadata": {
    "id": "UcaFVSNHDSvK"
   },
   "source": [
    "## Load Data"
   ]
  },
  {
   "cell_type": "markdown",
   "metadata": {
    "id": "7thCDRgQkf1U"
   },
   "source": [
    "**Mount Drive**"
   ]
  },
  {
   "cell_type": "code",
   "execution_count": 1,
   "metadata": {
    "colab": {
     "base_uri": "https://localhost:8080/"
    },
    "executionInfo": {
     "elapsed": 17232,
     "status": "ok",
     "timestamp": 1609526245369,
     "user": {
      "displayName": "YUANYUAN QU",
      "photoUrl": "",
      "userId": "16657437227704130618"
     },
     "user_tz": 360
    },
    "id": "gLRZRhRx3Sml",
    "outputId": "402bae0a-3b3b-4705-abbd-8072186b2289"
   },
   "outputs": [
    {
     "name": "stdout",
     "output_type": "stream",
     "text": [
      "Mounted at /content/drive\n"
     ]
    }
   ],
   "source": [
    "# Mount google drive\n",
    "from google.colab import drive\n",
    "drive.mount('/content/drive', force_remount=True)"
   ]
  },
  {
   "cell_type": "markdown",
   "metadata": {
    "id": "b-GH9516kfUM"
   },
   "source": [
    "**Import Data**"
   ]
  },
  {
   "cell_type": "code",
   "execution_count": 76,
   "metadata": {
    "executionInfo": {
     "elapsed": 1486,
     "status": "ok",
     "timestamp": 1609536235668,
     "user": {
      "displayName": "YUANYUAN QU",
      "photoUrl": "",
      "userId": "16657437227704130618"
     },
     "user_tz": 360
    },
    "id": "xFFbMo6iZbw2"
   },
   "outputs": [],
   "source": [
    "import pandas as pd\n",
    "\n",
    "# import data \n",
    "df_true = pd.read_csv('/content/drive/MyDrive/Deep learning/Final Project/Data/True.csv')\n",
    "df_fake = pd.read_csv('/content/drive/MyDrive/Deep learning/Final Project/Data/Fake.csv')"
   ]
  },
  {
   "cell_type": "code",
   "execution_count": 217,
   "metadata": {
    "colab": {
     "base_uri": "https://localhost:8080/",
     "height": 35
    },
    "executionInfo": {
     "elapsed": 407,
     "status": "ok",
     "timestamp": 1609562985233,
     "user": {
      "displayName": "YUANYUAN QU",
      "photoUrl": "",
      "userId": "16657437227704130618"
     },
     "user_tz": 360
    },
    "id": "NzvnqZbWFemW",
    "outputId": "2edad353-6f45-454e-ffb0-9da0bb278c78"
   },
   "outputs": [
    {
     "data": {
      "application/vnd.google.colaboratory.intrinsic+json": {
       "type": "string"
      },
      "text/plain": [
       "'As U.S. budget fight looms, Republicans flip their fiscal script'"
      ]
     },
     "execution_count": 217,
     "metadata": {
      "tags": []
     },
     "output_type": "execute_result"
    }
   ],
   "source": [
    "df_true.title[0]"
   ]
  },
  {
   "cell_type": "code",
   "execution_count": 44,
   "metadata": {
    "colab": {
     "base_uri": "https://localhost:8080/",
     "height": 202
    },
    "executionInfo": {
     "elapsed": 471,
     "status": "ok",
     "timestamp": 1609531083977,
     "user": {
      "displayName": "YUANYUAN QU",
      "photoUrl": "",
      "userId": "16657437227704130618"
     },
     "user_tz": 360
    },
    "id": "_O1rDZU3FhCa",
    "outputId": "d6be421a-b971-4de9-c857-00707b2914df"
   },
   "outputs": [
    {
     "data": {
      "text/html": [
       "<div>\n",
       "<style scoped>\n",
       "    .dataframe tbody tr th:only-of-type {\n",
       "        vertical-align: middle;\n",
       "    }\n",
       "\n",
       "    .dataframe tbody tr th {\n",
       "        vertical-align: top;\n",
       "    }\n",
       "\n",
       "    .dataframe thead th {\n",
       "        text-align: right;\n",
       "    }\n",
       "</style>\n",
       "<table border=\"1\" class=\"dataframe\">\n",
       "  <thead>\n",
       "    <tr style=\"text-align: right;\">\n",
       "      <th></th>\n",
       "      <th>title</th>\n",
       "      <th>text</th>\n",
       "      <th>subject</th>\n",
       "      <th>date</th>\n",
       "    </tr>\n",
       "  </thead>\n",
       "  <tbody>\n",
       "    <tr>\n",
       "      <th>0</th>\n",
       "      <td>Donald Trump Sends Out Embarrassing New Year’...</td>\n",
       "      <td>Donald Trump just couldn t wish all Americans ...</td>\n",
       "      <td>News</td>\n",
       "      <td>December 31, 2017</td>\n",
       "    </tr>\n",
       "    <tr>\n",
       "      <th>1</th>\n",
       "      <td>Drunk Bragging Trump Staffer Started Russian ...</td>\n",
       "      <td>House Intelligence Committee Chairman Devin Nu...</td>\n",
       "      <td>News</td>\n",
       "      <td>December 31, 2017</td>\n",
       "    </tr>\n",
       "    <tr>\n",
       "      <th>2</th>\n",
       "      <td>Sheriff David Clarke Becomes An Internet Joke...</td>\n",
       "      <td>On Friday, it was revealed that former Milwauk...</td>\n",
       "      <td>News</td>\n",
       "      <td>December 30, 2017</td>\n",
       "    </tr>\n",
       "    <tr>\n",
       "      <th>3</th>\n",
       "      <td>Trump Is So Obsessed He Even Has Obama’s Name...</td>\n",
       "      <td>On Christmas day, Donald Trump announced that ...</td>\n",
       "      <td>News</td>\n",
       "      <td>December 29, 2017</td>\n",
       "    </tr>\n",
       "    <tr>\n",
       "      <th>4</th>\n",
       "      <td>Pope Francis Just Called Out Donald Trump Dur...</td>\n",
       "      <td>Pope Francis used his annual Christmas Day mes...</td>\n",
       "      <td>News</td>\n",
       "      <td>December 25, 2017</td>\n",
       "    </tr>\n",
       "  </tbody>\n",
       "</table>\n",
       "</div>"
      ],
      "text/plain": [
       "                                               title  ...               date\n",
       "0   Donald Trump Sends Out Embarrassing New Year’...  ...  December 31, 2017\n",
       "1   Drunk Bragging Trump Staffer Started Russian ...  ...  December 31, 2017\n",
       "2   Sheriff David Clarke Becomes An Internet Joke...  ...  December 30, 2017\n",
       "3   Trump Is So Obsessed He Even Has Obama’s Name...  ...  December 29, 2017\n",
       "4   Pope Francis Just Called Out Donald Trump Dur...  ...  December 25, 2017\n",
       "\n",
       "[5 rows x 4 columns]"
      ]
     },
     "execution_count": 44,
     "metadata": {
      "tags": []
     },
     "output_type": "execute_result"
    }
   ],
   "source": [
    "df_fake.head()"
   ]
  },
  {
   "cell_type": "code",
   "execution_count": 77,
   "metadata": {
    "executionInfo": {
     "elapsed": 325,
     "status": "ok",
     "timestamp": 1609536238617,
     "user": {
      "displayName": "YUANYUAN QU",
      "photoUrl": "",
      "userId": "16657437227704130618"
     },
     "user_tz": 360
    },
    "id": "oKqFNoEcavgv"
   },
   "outputs": [],
   "source": [
    "# add labels\n",
    "# 1 indicates true, 0 indicates fake\n",
    "df_true['label'] = 1\n",
    "df_fake['label'] = 0\n",
    "df = pd.concat([df_true, df_fake])\n",
    "\n",
    "# shuffle dataframe and reset the index\n",
    "df = df.sample(frac=1).reset_index(drop=True)"
   ]
  },
  {
   "cell_type": "code",
   "execution_count": 78,
   "metadata": {
    "colab": {
     "base_uri": "https://localhost:8080/"
    },
    "executionInfo": {
     "elapsed": 487,
     "status": "ok",
     "timestamp": 1609536241411,
     "user": {
      "displayName": "YUANYUAN QU",
      "photoUrl": "",
      "userId": "16657437227704130618"
     },
     "user_tz": 360
    },
    "id": "TLtk6ccUjrQY",
    "outputId": "f49e6198-4a75-4d38-c6c8-14adc06dee53"
   },
   "outputs": [
    {
     "data": {
      "text/plain": [
       "politicsNews       11272\n",
       "worldnews          10145\n",
       "News                9050\n",
       "politics            6841\n",
       "left-news           4459\n",
       "Government News     1570\n",
       "US_News              783\n",
       "Middle-east          778\n",
       "Name: subject, dtype: int64"
      ]
     },
     "execution_count": 78,
     "metadata": {
      "tags": []
     },
     "output_type": "execute_result"
    }
   ],
   "source": [
    "df['subject'].value_counts()"
   ]
  },
  {
   "cell_type": "code",
   "execution_count": 79,
   "metadata": {
    "colab": {
     "base_uri": "https://localhost:8080/"
    },
    "executionInfo": {
     "elapsed": 291,
     "status": "ok",
     "timestamp": 1609536247743,
     "user": {
      "displayName": "YUANYUAN QU",
      "photoUrl": "",
      "userId": "16657437227704130618"
     },
     "user_tz": 360
    },
    "id": "go2ss8vUkU4_",
    "outputId": "157631d7-5b48-46de-c93b-d926691e9234"
   },
   "outputs": [
    {
     "data": {
      "text/plain": [
       "18113"
      ]
     },
     "execution_count": 79,
     "metadata": {
      "tags": []
     },
     "output_type": "execute_result"
    }
   ],
   "source": [
    "# select politics news\n",
    "df = df.query('subject==\"politicsNews\" | subject==\"politics\"').reset_index(drop=True)\n",
    "len(df)"
   ]
  },
  {
   "cell_type": "markdown",
   "metadata": {
    "id": "DLNCrJ-bpeQ5"
   },
   "source": [
    "**Split Dataset**"
   ]
  },
  {
   "cell_type": "code",
   "execution_count": 80,
   "metadata": {
    "colab": {
     "base_uri": "https://localhost:8080/"
    },
    "executionInfo": {
     "elapsed": 304,
     "status": "ok",
     "timestamp": 1609536250111,
     "user": {
      "displayName": "YUANYUAN QU",
      "photoUrl": "",
      "userId": "16657437227704130618"
     },
     "user_tz": 360
    },
    "id": "oq6k68igom-e",
    "outputId": "fa57e59c-9d57-4ee0-ff62-4d1b820d84cf"
   },
   "outputs": [
    {
     "name": "stdout",
     "output_type": "stream",
     "text": [
      "Training length: 8875\n",
      "Validation length: 3804\n",
      "Test length: 5434\n"
     ]
    }
   ],
   "source": [
    "from sklearn.model_selection import train_test_split\n",
    "\n",
    "text = df['title']\n",
    "label = df['label']\n",
    "x_train, x_test, y_train, y_test = train_test_split(text, label, test_size=0.3, random_state=0, stratify=label)\n",
    "x_train, x_validation, y_train, y_validation = train_test_split(x_train, y_train, test_size=0.3, random_state=0, stratify=y_train)\n",
    "\n",
    "print('Training length:', len(x_train))\n",
    "print('Validation length:', len(x_validation))\n",
    "print('Test length:', len(x_test))"
   ]
  },
  {
   "cell_type": "markdown",
   "metadata": {
    "id": "wc2Z-NmO-duC"
   },
   "source": [
    "## Preprocess Data"
   ]
  },
  {
   "cell_type": "code",
   "execution_count": 170,
   "metadata": {
    "colab": {
     "base_uri": "https://localhost:8080/"
    },
    "executionInfo": {
     "elapsed": 922,
     "status": "ok",
     "timestamp": 1609546173289,
     "user": {
      "displayName": "YUANYUAN QU",
      "photoUrl": "",
      "userId": "16657437227704130618"
     },
     "user_tz": 360
    },
    "id": "epfiy1R_-Jm6",
    "outputId": "2413330b-ad1f-400f-a205-f61664272c92"
   },
   "outputs": [
    {
     "name": "stdout",
     "output_type": "stream",
     "text": [
      "14446 unique tokens\n",
      "Training shape: (8875, 100)\n",
      "Validation shape: (3804, 100)\n",
      "Test shape: (5434, 100)\n"
     ]
    }
   ],
   "source": [
    "from tensorflow.keras.preprocessing.text import Tokenizer\n",
    "from tensorflow.keras.preprocessing.sequence import pad_sequences\n",
    "\n",
    "max_features = 15000\n",
    "\n",
    "max_len = 100\n",
    "batch_size = 128\n",
    "\n",
    "# Tokenize (Vectorize a text corpus)\n",
    "token = Tokenizer(num_words=max_features,     # The maximum number of words to keep\n",
    "                  lower=True)                 # Convert texts to lowercase\n",
    "token.fit_on_texts(x_train)\n",
    "X_train = token.texts_to_sequences(x_train)\n",
    "X_validation = token.texts_to_sequences(x_validation)\n",
    "X_test = token.texts_to_sequences(x_test)\n",
    "\n",
    "print('%s unique tokens' %len(token.word_index))\n",
    "\n",
    "X_train = pad_sequences(X_train, maxlen=max_len)\n",
    "X_validation = pad_sequences(X_validation, maxlen=max_len)\n",
    "X_test = pad_sequences(X_test, maxlen=max_len)\n",
    "print('Training shape:', X_train.shape)\n",
    "print('Validation shape:', X_validation.shape)\n",
    "print('Test shape:', X_test.shape)"
   ]
  },
  {
   "cell_type": "code",
   "execution_count": 82,
   "metadata": {
    "executionInfo": {
     "elapsed": 330,
     "status": "ok",
     "timestamp": 1609536260631,
     "user": {
      "displayName": "YUANYUAN QU",
      "photoUrl": "",
      "userId": "16657437227704130618"
     },
     "user_tz": 360
    },
    "id": "0mFXcP95xnN3"
   },
   "outputs": [],
   "source": [
    "from keras.models import Sequential\n",
    "from keras.layers import Embedding, SimpleRNN\n",
    "from keras.layers import Dense\n",
    "from keras.layers import Dropout\n",
    "from tensorflow.keras.callbacks import EarlyStopping, Callback\n",
    "from keras import layers\n",
    "from keras.optimizers import RMSprop\n",
    "import keras\n",
    "import matplotlib.pyplot as plt"
   ]
  },
  {
   "cell_type": "markdown",
   "metadata": {
    "id": "VZ0qU7WAnAfp"
   },
   "source": [
    "## Simple RNN\n",
    "### batch size=128 - overfitting problem"
   ]
  },
  {
   "cell_type": "code",
   "execution_count": 134,
   "metadata": {
    "colab": {
     "base_uri": "https://localhost:8080/"
    },
    "executionInfo": {
     "elapsed": 432,
     "status": "ok",
     "timestamp": 1609539677985,
     "user": {
      "displayName": "YUANYUAN QU",
      "photoUrl": "",
      "userId": "16657437227704130618"
     },
     "user_tz": 360
    },
    "id": "PIxcdlOEnAzb",
    "outputId": "52576104-e40f-4af1-d7f2-cdf356f96485"
   },
   "outputs": [
    {
     "name": "stdout",
     "output_type": "stream",
     "text": [
      "Model: \"sequential_1\"\n",
      "_________________________________________________________________\n",
      "Layer (type)                 Output Shape              Param #   \n",
      "=================================================================\n",
      "embedding_1 (Embedding)      (None, 100, 64)           960000    \n",
      "_________________________________________________________________\n",
      "simple_rnn_2 (SimpleRNN)     (None, 100, 16)           1296      \n",
      "_________________________________________________________________\n",
      "simple_rnn_3 (SimpleRNN)     (None, 100, 8)            200       \n",
      "_________________________________________________________________\n",
      "simple_rnn_4 (SimpleRNN)     (None, 8)                 136       \n",
      "_________________________________________________________________\n",
      "dense_1 (Dense)              (None, 1)                 9         \n",
      "=================================================================\n",
      "Total params: 961,641\n",
      "Trainable params: 961,641\n",
      "Non-trainable params: 0\n",
      "_________________________________________________________________\n"
     ]
    }
   ],
   "source": [
    "model = Sequential()\n",
    "# We specify the maximum input length to our Embedding layer\n",
    "# so we can later flatten the embedded inputs\n",
    "\n",
    "model.add(Embedding(max_features, 64, input_length=max_len))\n",
    "# After the Embedding layer, \n",
    "# our activations have shape `(samples, maxlen, 64)`.\n",
    "\n",
    "model.add(SimpleRNN(16, return_sequences=True))\n",
    "model.add(SimpleRNN(8, return_sequences=True))\n",
    "model.add(SimpleRNN(8)) # default activation is \"tanh\"\n",
    "model.add(Dense(1))\n",
    "model.summary()"
   ]
  },
  {
   "cell_type": "code",
   "execution_count": 135,
   "metadata": {
    "colab": {
     "base_uri": "https://localhost:8080/"
    },
    "executionInfo": {
     "elapsed": 114647,
     "status": "ok",
     "timestamp": 1609539798981,
     "user": {
      "displayName": "YUANYUAN QU",
      "photoUrl": "",
      "userId": "16657437227704130618"
     },
     "user_tz": 360
    },
    "id": "gwoCgcD5nCYg",
    "outputId": "7c32a69f-50b5-4ef8-e48c-dba654a4166f"
   },
   "outputs": [
    {
     "name": "stdout",
     "output_type": "stream",
     "text": [
      "Epoch 1/20\n",
      "70/70 [==============================] - 8s 83ms/step - loss: 0.4295 - accuracy: 0.7386 - val_loss: 0.2130 - val_accuracy: 0.8585\n",
      "Epoch 2/20\n",
      "70/70 [==============================] - 6s 79ms/step - loss: 0.1522 - accuracy: 0.9357 - val_loss: 0.1569 - val_accuracy: 0.9085\n",
      "Epoch 3/20\n",
      "70/70 [==============================] - 5s 78ms/step - loss: 0.0789 - accuracy: 0.9750 - val_loss: 0.1270 - val_accuracy: 0.9179\n",
      "Epoch 4/20\n",
      "70/70 [==============================] - 6s 79ms/step - loss: 0.0385 - accuracy: 0.9913 - val_loss: 0.1102 - val_accuracy: 0.9286\n",
      "Epoch 5/20\n",
      "70/70 [==============================] - 6s 79ms/step - loss: 0.0245 - accuracy: 0.9948 - val_loss: 0.1036 - val_accuracy: 0.9326\n",
      "Epoch 6/20\n",
      "70/70 [==============================] - 6s 81ms/step - loss: 0.0166 - accuracy: 0.9970 - val_loss: 0.0963 - val_accuracy: 0.9385\n",
      "Epoch 7/20\n",
      "70/70 [==============================] - 6s 80ms/step - loss: 0.0124 - accuracy: 0.9980 - val_loss: 0.0942 - val_accuracy: 0.9334\n",
      "Epoch 8/20\n",
      "70/70 [==============================] - 6s 80ms/step - loss: 0.0095 - accuracy: 0.9985 - val_loss: 0.0904 - val_accuracy: 0.9409\n",
      "Epoch 9/20\n",
      "70/70 [==============================] - 6s 81ms/step - loss: 0.0091 - accuracy: 0.9981 - val_loss: 0.0884 - val_accuracy: 0.9391\n",
      "Epoch 10/20\n",
      "70/70 [==============================] - 6s 80ms/step - loss: 0.0070 - accuracy: 0.9992 - val_loss: 0.0910 - val_accuracy: 0.9345\n",
      "Epoch 11/20\n",
      "70/70 [==============================] - 6s 80ms/step - loss: 0.0067 - accuracy: 0.9984 - val_loss: 0.0881 - val_accuracy: 0.9347\n",
      "Epoch 12/20\n",
      "70/70 [==============================] - 6s 80ms/step - loss: 0.0053 - accuracy: 0.9989 - val_loss: 0.0863 - val_accuracy: 0.9369\n",
      "Epoch 13/20\n",
      "70/70 [==============================] - 6s 80ms/step - loss: 0.0061 - accuracy: 0.9993 - val_loss: 0.0850 - val_accuracy: 0.9369\n",
      "Epoch 14/20\n",
      "70/70 [==============================] - 6s 80ms/step - loss: 0.0059 - accuracy: 0.9994 - val_loss: 0.0845 - val_accuracy: 0.9396\n",
      "Epoch 15/20\n",
      "70/70 [==============================] - 6s 80ms/step - loss: 0.0042 - accuracy: 0.9997 - val_loss: 0.0850 - val_accuracy: 0.9345\n",
      "Epoch 16/20\n",
      "70/70 [==============================] - 6s 79ms/step - loss: 0.0045 - accuracy: 1.0000 - val_loss: 0.0829 - val_accuracy: 0.9372\n",
      "Epoch 17/20\n",
      "70/70 [==============================] - 6s 80ms/step - loss: 0.0051 - accuracy: 0.9998 - val_loss: 0.0802 - val_accuracy: 0.9385\n",
      "Epoch 18/20\n",
      "70/70 [==============================] - 6s 79ms/step - loss: 0.0038 - accuracy: 0.9998 - val_loss: 0.0805 - val_accuracy: 0.9411\n",
      "Epoch 19/20\n",
      "70/70 [==============================] - 6s 81ms/step - loss: 0.0040 - accuracy: 0.9999 - val_loss: 0.0820 - val_accuracy: 0.9361\n",
      "Epoch 20/20\n",
      "70/70 [==============================] - 6s 84ms/step - loss: 0.0032 - accuracy: 0.9998 - val_loss: 0.0797 - val_accuracy: 0.9409\n"
     ]
    }
   ],
   "source": [
    "model.compile(optimizer='adam', loss='mae', metrics='accuracy')\n",
    "history = model.fit(X_train, y_train,\n",
    "                    epochs=20,\n",
    "                    batch_size=batch_size,\n",
    "                   validation_data=(X_test,y_test))\n",
    "\n",
    "keras.backend.clear_session()\n",
    "del model"
   ]
  },
  {
   "cell_type": "markdown",
   "metadata": {
    "id": "m9_Eh0Ef7yBc"
   },
   "source": [
    "### add l2 regularizer\n",
    "### add early stopping\n",
    "### delete one layer"
   ]
  },
  {
   "cell_type": "code",
   "execution_count": 139,
   "metadata": {
    "colab": {
     "base_uri": "https://localhost:8080/"
    },
    "executionInfo": {
     "elapsed": 418,
     "status": "ok",
     "timestamp": 1609539946757,
     "user": {
      "displayName": "YUANYUAN QU",
      "photoUrl": "",
      "userId": "16657437227704130618"
     },
     "user_tz": 360
    },
    "id": "PSvofmAu7xZG",
    "outputId": "2c77c462-9675-48bc-dd22-e183f29cc3cb"
   },
   "outputs": [
    {
     "name": "stdout",
     "output_type": "stream",
     "text": [
      "Model: \"sequential\"\n",
      "_________________________________________________________________\n",
      "Layer (type)                 Output Shape              Param #   \n",
      "=================================================================\n",
      "embedding (Embedding)        (None, 100, 64)           960000    \n",
      "_________________________________________________________________\n",
      "simple_rnn (SimpleRNN)       (None, 100, 16)           1296      \n",
      "_________________________________________________________________\n",
      "simple_rnn_1 (SimpleRNN)     (None, 8)                 200       \n",
      "_________________________________________________________________\n",
      "dense (Dense)                (None, 1)                 9         \n",
      "=================================================================\n",
      "Total params: 961,505\n",
      "Trainable params: 961,505\n",
      "Non-trainable params: 0\n",
      "_________________________________________________________________\n"
     ]
    }
   ],
   "source": [
    "model = Sequential()\n",
    "# We specify the maximum input length to our Embedding layer\n",
    "# so we can later flatten the embedded inputs\n",
    "\n",
    "model.add(Embedding(max_features, 64, input_length=max_len))\n",
    "# After the Embedding layer, \n",
    "# our activations have shape `(samples, maxlen, 64)`.\n",
    "\n",
    "model.add(SimpleRNN(16, return_sequences=True,kernel_regularizer='l2'))\n",
    "#model.add(SimpleRNN(8, return_sequences=True))\n",
    "model.add(SimpleRNN(8)) # default activation is \"tanh\"\n",
    "model.add(Dense(1))\n",
    "model.summary()"
   ]
  },
  {
   "cell_type": "code",
   "execution_count": 140,
   "metadata": {
    "colab": {
     "base_uri": "https://localhost:8080/"
    },
    "executionInfo": {
     "elapsed": 93359,
     "status": "ok",
     "timestamp": 1609540041479,
     "user": {
      "displayName": "YUANYUAN QU",
      "photoUrl": "",
      "userId": "16657437227704130618"
     },
     "user_tz": 360
    },
    "id": "qOyTPtet75-C",
    "outputId": "e5907d6d-f5db-495f-e995-e7c2402ba767"
   },
   "outputs": [
    {
     "name": "stdout",
     "output_type": "stream",
     "text": [
      "Epoch 1/50\n",
      "70/70 [==============================] - 6s 69ms/step - loss: 0.7252 - accuracy: 0.5959 - val_loss: 0.4437 - val_accuracy: 0.8184\n",
      "Epoch 2/50\n",
      "70/70 [==============================] - 4s 63ms/step - loss: 0.3633 - accuracy: 0.9052 - val_loss: 0.3329 - val_accuracy: 0.8798\n",
      "Epoch 3/50\n",
      "70/70 [==============================] - 4s 63ms/step - loss: 0.2301 - accuracy: 0.9584 - val_loss: 0.2669 - val_accuracy: 0.8995\n",
      "Epoch 4/50\n",
      "70/70 [==============================] - 4s 62ms/step - loss: 0.1525 - accuracy: 0.9791 - val_loss: 0.2131 - val_accuracy: 0.9201\n",
      "Epoch 5/50\n",
      "70/70 [==============================] - 4s 62ms/step - loss: 0.1031 - accuracy: 0.9913 - val_loss: 0.1704 - val_accuracy: 0.9304\n",
      "Epoch 6/50\n",
      "70/70 [==============================] - 4s 61ms/step - loss: 0.0731 - accuracy: 0.9942 - val_loss: 0.1581 - val_accuracy: 0.9249\n",
      "Epoch 7/50\n",
      "70/70 [==============================] - 4s 61ms/step - loss: 0.0544 - accuracy: 0.9967 - val_loss: 0.1359 - val_accuracy: 0.9398\n",
      "Epoch 8/50\n",
      "70/70 [==============================] - 4s 62ms/step - loss: 0.0394 - accuracy: 0.9982 - val_loss: 0.1255 - val_accuracy: 0.9479\n",
      "Epoch 9/50\n",
      "70/70 [==============================] - 4s 62ms/step - loss: 0.0315 - accuracy: 0.9986 - val_loss: 0.1172 - val_accuracy: 0.9492\n",
      "Epoch 10/50\n",
      "70/70 [==============================] - 4s 62ms/step - loss: 0.0259 - accuracy: 0.9991 - val_loss: 0.1125 - val_accuracy: 0.9409\n",
      "Epoch 11/50\n",
      "70/70 [==============================] - 4s 62ms/step - loss: 0.0203 - accuracy: 0.9992 - val_loss: 0.1066 - val_accuracy: 0.9418\n",
      "Epoch 12/50\n",
      "70/70 [==============================] - 4s 62ms/step - loss: 0.0181 - accuracy: 0.9994 - val_loss: 0.1023 - val_accuracy: 0.9450\n",
      "Epoch 13/50\n",
      "70/70 [==============================] - 4s 63ms/step - loss: 0.0156 - accuracy: 0.9988 - val_loss: 0.1046 - val_accuracy: 0.9350\n",
      "Epoch 14/50\n",
      "70/70 [==============================] - 4s 61ms/step - loss: 0.0140 - accuracy: 0.9994 - val_loss: 0.0985 - val_accuracy: 0.9407\n",
      "Epoch 15/50\n",
      "70/70 [==============================] - 4s 63ms/step - loss: 0.0122 - accuracy: 0.9996 - val_loss: 0.0974 - val_accuracy: 0.9435\n",
      "Epoch 16/50\n",
      "70/70 [==============================] - 4s 62ms/step - loss: 0.0105 - accuracy: 0.9997 - val_loss: 0.0949 - val_accuracy: 0.9428\n",
      "Epoch 17/50\n",
      "70/70 [==============================] - 4s 62ms/step - loss: 0.0091 - accuracy: 0.9999 - val_loss: 0.0945 - val_accuracy: 0.9389\n",
      "Epoch 18/50\n",
      "70/70 [==============================] - 4s 62ms/step - loss: 0.0086 - accuracy: 0.9998 - val_loss: 0.0994 - val_accuracy: 0.9336\n",
      "Epoch 19/50\n",
      "70/70 [==============================] - 4s 63ms/step - loss: 0.0085 - accuracy: 1.0000 - val_loss: 0.0937 - val_accuracy: 0.9409\n",
      "Epoch 20/50\n",
      "70/70 [==============================] - 4s 62ms/step - loss: 0.0076 - accuracy: 1.0000 - val_loss: 0.0949 - val_accuracy: 0.9385\n",
      "Epoch 21/50\n",
      "70/70 [==============================] - 4s 61ms/step - loss: 0.0074 - accuracy: 1.0000 - val_loss: 0.0945 - val_accuracy: 0.9347\n"
     ]
    }
   ],
   "source": [
    "model.compile(optimizer='adam', loss='mae', metrics='accuracy')\n",
    "\n",
    "Es=EarlyStopping(monitor='val_loss', patience=2, restore_best_weights=True)\n",
    "\n",
    "history = model.fit(X_train, y_train,\n",
    "                    epochs=50,\n",
    "                    batch_size=batch_size,\n",
    "                   validation_data=(X_test,y_test),callbacks = Es)\n",
    "\n",
    "keras.backend.clear_session()\n",
    "del model"
   ]
  },
  {
   "cell_type": "markdown",
   "metadata": {
    "id": "BfnMS5M5-_v7"
   },
   "source": [
    "### change the batch size to 8; others remain the same - improve the overfitting problem, but time consuming"
   ]
  },
  {
   "cell_type": "code",
   "execution_count": 142,
   "metadata": {
    "colab": {
     "base_uri": "https://localhost:8080/"
    },
    "executionInfo": {
     "elapsed": 387,
     "status": "ok",
     "timestamp": 1609540153528,
     "user": {
      "displayName": "YUANYUAN QU",
      "photoUrl": "",
      "userId": "16657437227704130618"
     },
     "user_tz": 360
    },
    "id": "RedA62pe_EbA",
    "outputId": "b4a36b4b-e8a3-4c71-ff3b-3ae0ee97f324"
   },
   "outputs": [
    {
     "name": "stdout",
     "output_type": "stream",
     "text": [
      "Model: \"sequential\"\n",
      "_________________________________________________________________\n",
      "Layer (type)                 Output Shape              Param #   \n",
      "=================================================================\n",
      "embedding (Embedding)        (None, 100, 64)           960000    \n",
      "_________________________________________________________________\n",
      "simple_rnn (SimpleRNN)       (None, 100, 16)           1296      \n",
      "_________________________________________________________________\n",
      "simple_rnn_1 (SimpleRNN)     (None, 8)                 200       \n",
      "_________________________________________________________________\n",
      "dense (Dense)                (None, 1)                 9         \n",
      "=================================================================\n",
      "Total params: 961,505\n",
      "Trainable params: 961,505\n",
      "Non-trainable params: 0\n",
      "_________________________________________________________________\n"
     ]
    }
   ],
   "source": [
    "model = Sequential()\n",
    "# We specify the maximum input length to our Embedding layer\n",
    "# so we can later flatten the embedded inputs\n",
    "\n",
    "model.add(Embedding(max_features, 64, input_length=max_len))\n",
    "# After the Embedding layer, \n",
    "# our activations have shape `(samples, maxlen, 64)`.\n",
    "\n",
    "model.add(SimpleRNN(16, return_sequences=True,kernel_regularizer='l2'))\n",
    "#model.add(SimpleRNN(8, return_sequences=True))\n",
    "model.add(SimpleRNN(8)) # default activation is \"tanh\"\n",
    "model.add(Dense(1))\n",
    "model.summary()"
   ]
  },
  {
   "cell_type": "code",
   "execution_count": 143,
   "metadata": {
    "colab": {
     "base_uri": "https://localhost:8080/"
    },
    "executionInfo": {
     "elapsed": 411602,
     "status": "ok",
     "timestamp": 1609540567271,
     "user": {
      "displayName": "YUANYUAN QU",
      "photoUrl": "",
      "userId": "16657437227704130618"
     },
     "user_tz": 360
    },
    "id": "Sk1lWSKw_G3q",
    "outputId": "9b9bade0-70f6-4a18-c2be-40c33fe2cd05"
   },
   "outputs": [
    {
     "name": "stdout",
     "output_type": "stream",
     "text": [
      "Epoch 1/50\n",
      "1110/1110 [==============================] - 47s 41ms/step - loss: 0.4364 - accuracy: 0.7664 - val_loss: 0.2143 - val_accuracy: 0.8484\n",
      "Epoch 2/50\n",
      "1110/1110 [==============================] - 46s 41ms/step - loss: 0.1421 - accuracy: 0.9082 - val_loss: 0.1545 - val_accuracy: 0.8866\n",
      "Epoch 3/50\n",
      "1110/1110 [==============================] - 46s 41ms/step - loss: 0.1039 - accuracy: 0.9325 - val_loss: 0.2414 - val_accuracy: 0.7854\n",
      "Epoch 4/50\n",
      "1110/1110 [==============================] - 45s 41ms/step - loss: 0.2155 - accuracy: 0.8011 - val_loss: 0.1165 - val_accuracy: 0.9336\n",
      "Epoch 5/50\n",
      "1110/1110 [==============================] - 45s 41ms/step - loss: 0.1524 - accuracy: 0.8822 - val_loss: 0.1840 - val_accuracy: 0.9203\n",
      "Epoch 6/50\n",
      "1110/1110 [==============================] - 46s 41ms/step - loss: 0.0923 - accuracy: 0.9818 - val_loss: 0.0711 - val_accuracy: 0.9650\n",
      "Epoch 7/50\n",
      "1110/1110 [==============================] - 46s 41ms/step - loss: 0.0351 - accuracy: 0.9925 - val_loss: 0.0641 - val_accuracy: 0.9676\n",
      "Epoch 8/50\n",
      "1110/1110 [==============================] - 46s 41ms/step - loss: 0.0264 - accuracy: 0.9959 - val_loss: 0.0767 - val_accuracy: 0.9533\n",
      "Epoch 9/50\n",
      "1110/1110 [==============================] - 45s 41ms/step - loss: 0.0212 - accuracy: 0.9975 - val_loss: 0.0681 - val_accuracy: 0.9523\n"
     ]
    }
   ],
   "source": [
    "model.compile(optimizer='adam', loss='mae', metrics='accuracy')\n",
    "\n",
    "Es=EarlyStopping(monitor='val_loss', patience=2, restore_best_weights=True)\n",
    "\n",
    "history = model.fit(X_train, y_train,\n",
    "                    epochs=50,\n",
    "                    batch_size=batch_size,\n",
    "                   validation_data=(X_test,y_test),callbacks = Es)\n",
    "\n",
    "keras.backend.clear_session()\n",
    "del model"
   ]
  },
  {
   "cell_type": "markdown",
   "metadata": {
    "id": "cjiy9rWMoODs"
   },
   "source": [
    "## Predict using Conv1D with word embedding. - didn't need to mention"
   ]
  },
  {
   "cell_type": "markdown",
   "metadata": {
    "id": "BUqdIhsyBiKY"
   },
   "source": [
    "### batch size still 128(in order to save time)"
   ]
  },
  {
   "cell_type": "code",
   "execution_count": 148,
   "metadata": {
    "colab": {
     "base_uri": "https://localhost:8080/"
    },
    "executionInfo": {
     "elapsed": 303,
     "status": "ok",
     "timestamp": 1609540745584,
     "user": {
      "displayName": "YUANYUAN QU",
      "photoUrl": "",
      "userId": "16657437227704130618"
     },
     "user_tz": 360
    },
    "id": "KsHucoLaoOd8",
    "outputId": "3b568098-2937-47ff-f1fa-a6793175f6c8"
   },
   "outputs": [
    {
     "name": "stdout",
     "output_type": "stream",
     "text": [
      "Model: \"sequential_2\"\n",
      "_________________________________________________________________\n",
      "Layer (type)                 Output Shape              Param #   \n",
      "=================================================================\n",
      "embedding_2 (Embedding)      (None, 100, 64)           960000    \n",
      "_________________________________________________________________\n",
      "conv1d_4 (Conv1D)            (None, 96, 16)            5136      \n",
      "_________________________________________________________________\n",
      "max_pooling1d_2 (MaxPooling1 (None, 32, 16)            0         \n",
      "_________________________________________________________________\n",
      "conv1d_5 (Conv1D)            (None, 28, 8)             648       \n",
      "_________________________________________________________________\n",
      "global_max_pooling1d_2 (Glob (None, 8)                 0         \n",
      "_________________________________________________________________\n",
      "dense_2 (Dense)              (None, 1)                 9         \n",
      "=================================================================\n",
      "Total params: 965,793\n",
      "Trainable params: 965,793\n",
      "Non-trainable params: 0\n",
      "_________________________________________________________________\n"
     ]
    }
   ],
   "source": [
    "model = Sequential()\n",
    "model.add(Embedding(max_features, 64, input_length=max_len))\n",
    "model.add(layers.Conv1D(16, 5, activation='relu',kernel_regularizer='l2'))\n",
    "model.add(layers.MaxPooling1D(3))\n",
    "model.add(layers.Conv1D(8, 5, activation='relu',kernel_regularizer='l2'))\n",
    "model.add(layers.GlobalMaxPooling1D())\n",
    "model.add(layers.Dense(1))\n",
    "\n",
    "model.summary()"
   ]
  },
  {
   "cell_type": "code",
   "execution_count": 149,
   "metadata": {
    "colab": {
     "base_uri": "https://localhost:8080/"
    },
    "executionInfo": {
     "elapsed": 33734,
     "status": "ok",
     "timestamp": 1609540781082,
     "user": {
      "displayName": "YUANYUAN QU",
      "photoUrl": "",
      "userId": "16657437227704130618"
     },
     "user_tz": 360
    },
    "id": "OBxIpK2OoO_y",
    "outputId": "0c70b9df-bd1f-4f3a-90c5-a67689a62d7e"
   },
   "outputs": [
    {
     "name": "stdout",
     "output_type": "stream",
     "text": [
      "Epoch 1/50\n",
      "70/70 [==============================] - 4s 41ms/step - loss: 0.7511 - accuracy: 0.4877 - val_loss: 0.4113 - val_accuracy: 0.7194\n",
      "Epoch 2/50\n",
      "70/70 [==============================] - 3s 38ms/step - loss: 0.3236 - accuracy: 0.8720 - val_loss: 0.2371 - val_accuracy: 0.9233\n",
      "Epoch 3/50\n",
      "70/70 [==============================] - 3s 38ms/step - loss: 0.2133 - accuracy: 0.9578 - val_loss: 0.2146 - val_accuracy: 0.9249\n",
      "Epoch 4/50\n",
      "70/70 [==============================] - 3s 39ms/step - loss: 0.1819 - accuracy: 0.9686 - val_loss: 0.2080 - val_accuracy: 0.9271\n",
      "Epoch 5/50\n",
      "70/70 [==============================] - 3s 39ms/step - loss: 0.1618 - accuracy: 0.9756 - val_loss: 0.1861 - val_accuracy: 0.9356\n",
      "Epoch 6/50\n",
      "70/70 [==============================] - 3s 38ms/step - loss: 0.1483 - accuracy: 0.9768 - val_loss: 0.1812 - val_accuracy: 0.9483\n",
      "Epoch 7/50\n",
      "70/70 [==============================] - 3s 38ms/step - loss: 0.1367 - accuracy: 0.9840 - val_loss: 0.1907 - val_accuracy: 0.9310\n",
      "Epoch 8/50\n",
      "70/70 [==============================] - 3s 38ms/step - loss: 0.1307 - accuracy: 0.9861 - val_loss: 0.1805 - val_accuracy: 0.9352\n",
      "Epoch 9/50\n",
      "70/70 [==============================] - 3s 38ms/step - loss: 0.1239 - accuracy: 0.9881 - val_loss: 0.1736 - val_accuracy: 0.9474\n",
      "Epoch 10/50\n",
      "70/70 [==============================] - 3s 38ms/step - loss: 0.1178 - accuracy: 0.9917 - val_loss: 0.1656 - val_accuracy: 0.9549\n",
      "Epoch 11/50\n",
      "70/70 [==============================] - 3s 37ms/step - loss: 0.1103 - accuracy: 0.9928 - val_loss: 0.1734 - val_accuracy: 0.9536\n",
      "Epoch 12/50\n",
      "70/70 [==============================] - 3s 38ms/step - loss: 0.1069 - accuracy: 0.9937 - val_loss: 0.1699 - val_accuracy: 0.9573\n"
     ]
    }
   ],
   "source": [
    "model.compile(optimizer='rmsprop', loss='mae', metrics='accuracy')\n",
    "\n",
    "Es=EarlyStopping(monitor='val_loss', patience=2, restore_best_weights=True)\n",
    "\n",
    "history = model.fit(X_train, y_train,\n",
    "                    epochs=50,\n",
    "                    batch_size=batch_size,\n",
    "                   validation_data=(X_test,y_test),callbacks=Es)\n",
    "\n",
    "keras.backend.clear_session()\n",
    "del model"
   ]
  },
  {
   "cell_type": "markdown",
   "metadata": {
    "id": "cQ_hPExycS_O"
   },
   "source": [
    "## Regularization with CNN and LSTM"
   ]
  },
  {
   "cell_type": "code",
   "execution_count": 171,
   "metadata": {
    "colab": {
     "base_uri": "https://localhost:8080/"
    },
    "executionInfo": {
     "elapsed": 811,
     "status": "ok",
     "timestamp": 1609546181617,
     "user": {
      "displayName": "YUANYUAN QU",
      "photoUrl": "",
      "userId": "16657437227704130618"
     },
     "user_tz": 360
    },
    "id": "MbV3Db552ksq",
    "outputId": "6de35527-4685-497a-f10f-cb03aee7b6d7"
   },
   "outputs": [
    {
     "name": "stdout",
     "output_type": "stream",
     "text": [
      "Model: \"sequential_1\"\n",
      "_________________________________________________________________\n",
      "Layer (type)                 Output Shape              Param #   \n",
      "=================================================================\n",
      "embedding_1 (Embedding)      (None, 100, 64)           960000    \n",
      "_________________________________________________________________\n",
      "conv1d_2 (Conv1D)            (None, 96, 16)            5136      \n",
      "_________________________________________________________________\n",
      "max_pooling1d (MaxPooling1D) (None, 32, 16)            0         \n",
      "_________________________________________________________________\n",
      "conv1d_3 (Conv1D)            (None, 28, 8)             648       \n",
      "_________________________________________________________________\n",
      "dropout_1 (Dropout)          (None, 28, 8)             0         \n",
      "_________________________________________________________________\n",
      "lstm_1 (LSTM)                (None, 28, 16)            1600      \n",
      "_________________________________________________________________\n",
      "lstm_2 (LSTM)                (None, 8)                 800       \n",
      "_________________________________________________________________\n",
      "dense_1 (Dense)              (None, 1)                 9         \n",
      "=================================================================\n",
      "Total params: 968,193\n",
      "Trainable params: 968,193\n",
      "Non-trainable params: 0\n",
      "_________________________________________________________________\n"
     ]
    }
   ],
   "source": [
    "model = Sequential()\n",
    "model.add(Embedding(max_features, 64, input_length=max_len))\n",
    "model.add(layers.Conv1D(16, 5, activation='relu',kernel_regularizer=\"l2\"))\n",
    "model.add(layers.MaxPooling1D(3))\n",
    "model.add(layers.Conv1D(8, 5, activation='relu',kernel_regularizer=\"l2\"))\n",
    "model.add(Dropout(0.3))\n",
    "model.add(layers.LSTM(16,dropout=0.4,recurrent_dropout=0.4, return_sequences=True))\n",
    "model.add(layers.LSTM(8,dropout=0.4))\n",
    "model.add(layers.Dense(1))\n",
    "\n",
    "model.summary()"
   ]
  },
  {
   "cell_type": "code",
   "execution_count": 172,
   "metadata": {
    "colab": {
     "base_uri": "https://localhost:8080/"
    },
    "executionInfo": {
     "elapsed": 95724,
     "status": "ok",
     "timestamp": 1609546282478,
     "user": {
      "displayName": "YUANYUAN QU",
      "photoUrl": "",
      "userId": "16657437227704130618"
     },
     "user_tz": 360
    },
    "id": "_hWuAjdX2h_L",
    "outputId": "5f409cc5-3c47-4fa2-e49f-d71999b9f435"
   },
   "outputs": [
    {
     "name": "stdout",
     "output_type": "stream",
     "text": [
      "Epoch 1/50\n",
      "70/70 [==============================] - 11s 95ms/step - loss: 0.7963 - accuracy: 0.4620 - val_loss: 0.4334 - val_accuracy: 0.6275\n",
      "Epoch 2/50\n",
      "70/70 [==============================] - 6s 88ms/step - loss: 0.3759 - accuracy: 0.7647 - val_loss: 0.2262 - val_accuracy: 0.9049\n",
      "Epoch 3/50\n",
      "70/70 [==============================] - 6s 87ms/step - loss: 0.2121 - accuracy: 0.9339 - val_loss: 0.1520 - val_accuracy: 0.9525\n",
      "Epoch 4/50\n",
      "70/70 [==============================] - 6s 85ms/step - loss: 0.1384 - accuracy: 0.9707 - val_loss: 0.1179 - val_accuracy: 0.9569\n",
      "Epoch 5/50\n",
      "70/70 [==============================] - 6s 85ms/step - loss: 0.0991 - accuracy: 0.9800 - val_loss: 0.0954 - val_accuracy: 0.9665\n",
      "Epoch 6/50\n",
      "70/70 [==============================] - 6s 85ms/step - loss: 0.0754 - accuracy: 0.9868 - val_loss: 0.0958 - val_accuracy: 0.9676\n",
      "Epoch 7/50\n",
      "70/70 [==============================] - 6s 85ms/step - loss: 0.0595 - accuracy: 0.9914 - val_loss: 0.0831 - val_accuracy: 0.9654\n",
      "Epoch 8/50\n",
      "70/70 [==============================] - 6s 85ms/step - loss: 0.0490 - accuracy: 0.9916 - val_loss: 0.0783 - val_accuracy: 0.9645\n",
      "Epoch 9/50\n",
      "70/70 [==============================] - 6s 86ms/step - loss: 0.0428 - accuracy: 0.9929 - val_loss: 0.0775 - val_accuracy: 0.9656\n",
      "Epoch 10/50\n",
      "70/70 [==============================] - 6s 88ms/step - loss: 0.0384 - accuracy: 0.9938 - val_loss: 0.0719 - val_accuracy: 0.9639\n",
      "Epoch 11/50\n",
      "70/70 [==============================] - 6s 85ms/step - loss: 0.0325 - accuracy: 0.9947 - val_loss: 0.0759 - val_accuracy: 0.9623\n",
      "Epoch 12/50\n",
      "70/70 [==============================] - 6s 85ms/step - loss: 0.0313 - accuracy: 0.9954 - val_loss: 0.0683 - val_accuracy: 0.9641\n",
      "Epoch 13/50\n",
      "70/70 [==============================] - 6s 86ms/step - loss: 0.0261 - accuracy: 0.9972 - val_loss: 0.0656 - val_accuracy: 0.9647\n",
      "Epoch 14/50\n",
      "70/70 [==============================] - 6s 86ms/step - loss: 0.0244 - accuracy: 0.9965 - val_loss: 0.0667 - val_accuracy: 0.9641\n",
      "Epoch 15/50\n",
      "70/70 [==============================] - 6s 86ms/step - loss: 0.0255 - accuracy: 0.9975 - val_loss: 0.0671 - val_accuracy: 0.9639\n"
     ]
    }
   ],
   "source": [
    "model.compile(optimizer='adam', loss='mae', metrics='accuracy')\n",
    "\n",
    "Es=EarlyStopping(monitor='val_loss', patience=2, restore_best_weights=True) \n",
    "\n",
    "history = model.fit(X_train, y_train,\n",
    "                    epochs=50,\n",
    "                    batch_size=batch_size,\n",
    "                    validation_data=(X_test,y_test),callbacks = Es)\n",
    "\n",
    "keras.backend.clear_session()\n",
    "del model"
   ]
  },
  {
   "cell_type": "markdown",
   "metadata": {
    "id": "L9GkcqfL32Gw"
   },
   "source": [
    "### delete one LSTM layer\n",
    "### increase dropout"
   ]
  },
  {
   "cell_type": "code",
   "execution_count": 173,
   "metadata": {
    "colab": {
     "base_uri": "https://localhost:8080/"
    },
    "executionInfo": {
     "elapsed": 721,
     "status": "ok",
     "timestamp": 1609546283206,
     "user": {
      "displayName": "YUANYUAN QU",
      "photoUrl": "",
      "userId": "16657437227704130618"
     },
     "user_tz": 360
    },
    "id": "p8MtvNHT3ycG",
    "outputId": "cfc04d41-2ba7-48ad-fc56-195aa26be565"
   },
   "outputs": [
    {
     "name": "stdout",
     "output_type": "stream",
     "text": [
      "Model: \"sequential\"\n",
      "_________________________________________________________________\n",
      "Layer (type)                 Output Shape              Param #   \n",
      "=================================================================\n",
      "embedding (Embedding)        (None, 100, 64)           960000    \n",
      "_________________________________________________________________\n",
      "conv1d (Conv1D)              (None, 96, 16)            5136      \n",
      "_________________________________________________________________\n",
      "max_pooling1d (MaxPooling1D) (None, 32, 16)            0         \n",
      "_________________________________________________________________\n",
      "conv1d_1 (Conv1D)            (None, 28, 8)             648       \n",
      "_________________________________________________________________\n",
      "dropout (Dropout)            (None, 28, 8)             0         \n",
      "_________________________________________________________________\n",
      "lstm (LSTM)                  (None, 8)                 544       \n",
      "_________________________________________________________________\n",
      "dense (Dense)                (None, 1)                 9         \n",
      "=================================================================\n",
      "Total params: 966,337\n",
      "Trainable params: 966,337\n",
      "Non-trainable params: 0\n",
      "_________________________________________________________________\n"
     ]
    }
   ],
   "source": [
    "model = Sequential()\n",
    "model.add(Embedding(max_features, 64, input_length=max_len))\n",
    "model.add(layers.Conv1D(16, 5, activation='relu',kernel_regularizer=\"l2\"))\n",
    "model.add(layers.MaxPooling1D(3))\n",
    "model.add(layers.Conv1D(8, 5, activation='relu',kernel_regularizer=\"l2\"))\n",
    "model.add(Dropout(0.5))\n",
    "model.add(layers.LSTM(8,dropout=0.4,recurrent_dropout=0.4))\n",
    "#model.add(layers.LSTM(8,dropout=0.4))\n",
    "model.add(layers.Dense(1))\n",
    "\n",
    "model.summary()"
   ]
  },
  {
   "cell_type": "code",
   "execution_count": 174,
   "metadata": {
    "colab": {
     "base_uri": "https://localhost:8080/"
    },
    "executionInfo": {
     "elapsed": 79118,
     "status": "ok",
     "timestamp": 1609546361615,
     "user": {
      "displayName": "YUANYUAN QU",
      "photoUrl": "",
      "userId": "16657437227704130618"
     },
     "user_tz": 360
    },
    "id": "XpkIMzyr4JH_",
    "outputId": "792d757a-fd53-4bf4-8306-3f6e65d1306c"
   },
   "outputs": [
    {
     "name": "stdout",
     "output_type": "stream",
     "text": [
      "Epoch 1/50\n",
      "70/70 [==============================] - 9s 76ms/step - loss: 0.7681 - accuracy: 0.5337 - val_loss: 0.3499 - val_accuracy: 0.8399\n",
      "Epoch 2/50\n",
      "70/70 [==============================] - 5s 70ms/step - loss: 0.3650 - accuracy: 0.8796 - val_loss: 0.2092 - val_accuracy: 0.9468\n",
      "Epoch 3/50\n",
      "70/70 [==============================] - 5s 72ms/step - loss: 0.2221 - accuracy: 0.9482 - val_loss: 0.1633 - val_accuracy: 0.9525\n",
      "Epoch 4/50\n",
      "70/70 [==============================] - 5s 72ms/step - loss: 0.1510 - accuracy: 0.9679 - val_loss: 0.1282 - val_accuracy: 0.9626\n",
      "Epoch 5/50\n",
      "70/70 [==============================] - 5s 71ms/step - loss: 0.1172 - accuracy: 0.9799 - val_loss: 0.1202 - val_accuracy: 0.9649\n",
      "Epoch 6/50\n",
      "70/70 [==============================] - 5s 71ms/step - loss: 0.0947 - accuracy: 0.9873 - val_loss: 0.1086 - val_accuracy: 0.9702\n",
      "Epoch 7/50\n",
      "70/70 [==============================] - 5s 71ms/step - loss: 0.0821 - accuracy: 0.9906 - val_loss: 0.1001 - val_accuracy: 0.9713\n",
      "Epoch 8/50\n",
      "70/70 [==============================] - 5s 72ms/step - loss: 0.0709 - accuracy: 0.9925 - val_loss: 0.0951 - val_accuracy: 0.9717\n",
      "Epoch 9/50\n",
      "70/70 [==============================] - 5s 71ms/step - loss: 0.0636 - accuracy: 0.9942 - val_loss: 0.0896 - val_accuracy: 0.9722\n",
      "Epoch 10/50\n",
      "70/70 [==============================] - 5s 71ms/step - loss: 0.0609 - accuracy: 0.9934 - val_loss: 0.0906 - val_accuracy: 0.9696\n",
      "Epoch 11/50\n",
      "70/70 [==============================] - 5s 71ms/step - loss: 0.0553 - accuracy: 0.9942 - val_loss: 0.0868 - val_accuracy: 0.9696\n",
      "Epoch 12/50\n",
      "70/70 [==============================] - 5s 71ms/step - loss: 0.0539 - accuracy: 0.9942 - val_loss: 0.0846 - val_accuracy: 0.9687\n",
      "Epoch 13/50\n",
      "70/70 [==============================] - 5s 72ms/step - loss: 0.0502 - accuracy: 0.9941 - val_loss: 0.0775 - val_accuracy: 0.9707\n",
      "Epoch 14/50\n",
      "70/70 [==============================] - 5s 72ms/step - loss: 0.0501 - accuracy: 0.9944 - val_loss: 0.0786 - val_accuracy: 0.9687\n",
      "Epoch 15/50\n",
      "70/70 [==============================] - 5s 73ms/step - loss: 0.0446 - accuracy: 0.9954 - val_loss: 0.0794 - val_accuracy: 0.9683\n"
     ]
    }
   ],
   "source": [
    "model.compile(optimizer='adam', loss='mae', metrics='accuracy')\n",
    "\n",
    "Es=EarlyStopping(monitor='val_loss', patience=2, restore_best_weights=True) \n",
    "\n",
    "history = model.fit(X_train, y_train,\n",
    "                    epochs=50,\n",
    "                    batch_size=batch_size,\n",
    "                    validation_data=(X_test,y_test),callbacks = Es)\n",
    "\n",
    "keras.backend.clear_session()\n",
    "del model"
   ]
  },
  {
   "cell_type": "markdown",
   "metadata": {
    "id": "gfYoIcVF4a9A"
   },
   "source": [
    "### delete one maxpooling layer - the overfitting problem became worse;\n",
    "### add one more maxpooling layer - shows the underfitting problem\n",
    "### decrease the lstm neurons - improve the overfitting problem"
   ]
  },
  {
   "cell_type": "markdown",
   "metadata": {},
   "source": [
    "# This is our final model"
   ]
  },
  {
   "cell_type": "code",
   "execution_count": 210,
   "metadata": {
    "colab": {
     "base_uri": "https://localhost:8080/"
    },
    "executionInfo": {
     "elapsed": 551,
     "status": "ok",
     "timestamp": 1609558115697,
     "user": {
      "displayName": "YUANYUAN QU",
      "photoUrl": "",
      "userId": "16657437227704130618"
     },
     "user_tz": 360
    },
    "id": "ZVZrFxzhd48j",
    "outputId": "f521d5a4-abe1-4960-a58f-a057d5198567"
   },
   "outputs": [
    {
     "name": "stdout",
     "output_type": "stream",
     "text": [
      "Model: \"sequential\"\n",
      "_________________________________________________________________\n",
      "Layer (type)                 Output Shape              Param #   \n",
      "=================================================================\n",
      "embedding (Embedding)        (None, 100, 64)           960000    \n",
      "_________________________________________________________________\n",
      "conv1d (Conv1D)              (None, 96, 10)            3210      \n",
      "_________________________________________________________________\n",
      "max_pooling1d (MaxPooling1D) (None, 32, 10)            0         \n",
      "_________________________________________________________________\n",
      "conv1d_1 (Conv1D)            (None, 28, 5)             255       \n",
      "_________________________________________________________________\n",
      "dropout (Dropout)            (None, 28, 5)             0         \n",
      "_________________________________________________________________\n",
      "lstm (LSTM)                  (None, 4)                 160       \n",
      "_________________________________________________________________\n",
      "dense (Dense)                (None, 1)                 5         \n",
      "=================================================================\n",
      "Total params: 963,630\n",
      "Trainable params: 963,630\n",
      "Non-trainable params: 0\n",
      "_________________________________________________________________\n"
     ]
    }
   ],
   "source": [
    "model = Sequential()\n",
    "model.add(Embedding(max_features, 64, input_length=max_len))\n",
    "model.add(layers.Conv1D(10, 5, activation='relu',kernel_regularizer=\"l2\"))\n",
    "model.add(layers.MaxPooling1D(3))\n",
    "model.add(layers.Conv1D(5, 5, activation='relu',kernel_regularizer=\"l2\"))\n",
    "model.add(Dropout(0.5))\n",
    "model.add(layers.LSTM(4,dropout=0.5,recurrent_dropout=0.5))\n",
    "#model.add(layers.LSTM(8,dropout=0.4))\n",
    "model.add(layers.Dense(1))\n",
    "\n",
    "model.summary()"
   ]
  },
  {
   "cell_type": "code",
   "execution_count": 212,
   "metadata": {
    "colab": {
     "base_uri": "https://localhost:8080/"
    },
    "executionInfo": {
     "elapsed": 162525,
     "status": "ok",
     "timestamp": 1609558301042,
     "user": {
      "displayName": "YUANYUAN QU",
      "photoUrl": "",
      "userId": "16657437227704130618"
     },
     "user_tz": 360
    },
    "id": "TbZYzJNjd6gT",
    "outputId": "3c86d931-dbef-411c-e0af-1cfd4f828237"
   },
   "outputs": [
    {
     "name": "stdout",
     "output_type": "stream",
     "text": [
      "Epoch 1/50\n",
      "70/70 [==============================] - 8s 74ms/step - loss: 0.7681 - accuracy: 0.3892 - val_loss: 0.4662 - val_accuracy: 0.6323\n",
      "Epoch 2/50\n",
      "70/70 [==============================] - 5s 69ms/step - loss: 0.4465 - accuracy: 0.6886 - val_loss: 0.2434 - val_accuracy: 0.8728\n",
      "Epoch 3/50\n",
      "70/70 [==============================] - 5s 70ms/step - loss: 0.2521 - accuracy: 0.8996 - val_loss: 0.2096 - val_accuracy: 0.9266\n",
      "Epoch 4/50\n",
      "70/70 [==============================] - 5s 68ms/step - loss: 0.2012 - accuracy: 0.9270 - val_loss: 0.1595 - val_accuracy: 0.9488\n",
      "Epoch 5/50\n",
      "70/70 [==============================] - 5s 69ms/step - loss: 0.1765 - accuracy: 0.9401 - val_loss: 0.1441 - val_accuracy: 0.9555\n",
      "Epoch 6/50\n",
      "70/70 [==============================] - 5s 68ms/step - loss: 0.1592 - accuracy: 0.9529 - val_loss: 0.1410 - val_accuracy: 0.9533\n",
      "Epoch 7/50\n",
      "70/70 [==============================] - 5s 68ms/step - loss: 0.1420 - accuracy: 0.9605 - val_loss: 0.1239 - val_accuracy: 0.9636\n",
      "Epoch 8/50\n",
      "70/70 [==============================] - 5s 69ms/step - loss: 0.1326 - accuracy: 0.9616 - val_loss: 0.1204 - val_accuracy: 0.9608\n",
      "Epoch 9/50\n",
      "70/70 [==============================] - 5s 69ms/step - loss: 0.1282 - accuracy: 0.9630 - val_loss: 0.1122 - val_accuracy: 0.9658\n",
      "Epoch 10/50\n",
      "70/70 [==============================] - 5s 69ms/step - loss: 0.1213 - accuracy: 0.9659 - val_loss: 0.1099 - val_accuracy: 0.9663\n",
      "Epoch 11/50\n",
      "70/70 [==============================] - 5s 69ms/step - loss: 0.1134 - accuracy: 0.9678 - val_loss: 0.1008 - val_accuracy: 0.9687\n",
      "Epoch 12/50\n",
      "70/70 [==============================] - 5s 68ms/step - loss: 0.1088 - accuracy: 0.9692 - val_loss: 0.0985 - val_accuracy: 0.9709\n",
      "Epoch 13/50\n",
      "70/70 [==============================] - 5s 70ms/step - loss: 0.1002 - accuracy: 0.9737 - val_loss: 0.0964 - val_accuracy: 0.9724\n",
      "Epoch 14/50\n",
      "70/70 [==============================] - 5s 69ms/step - loss: 0.0989 - accuracy: 0.9698 - val_loss: 0.0937 - val_accuracy: 0.9709\n",
      "Epoch 15/50\n",
      "70/70 [==============================] - 5s 70ms/step - loss: 0.0934 - accuracy: 0.9738 - val_loss: 0.0891 - val_accuracy: 0.9726\n",
      "Epoch 16/50\n",
      "70/70 [==============================] - 5s 69ms/step - loss: 0.0898 - accuracy: 0.9741 - val_loss: 0.0848 - val_accuracy: 0.9718\n",
      "Epoch 17/50\n",
      "70/70 [==============================] - 5s 68ms/step - loss: 0.0815 - accuracy: 0.9802 - val_loss: 0.0825 - val_accuracy: 0.9717\n",
      "Epoch 18/50\n",
      "70/70 [==============================] - 5s 68ms/step - loss: 0.0838 - accuracy: 0.9778 - val_loss: 0.0792 - val_accuracy: 0.9707\n",
      "Epoch 19/50\n",
      "70/70 [==============================] - 5s 68ms/step - loss: 0.0765 - accuracy: 0.9780 - val_loss: 0.0780 - val_accuracy: 0.9720\n",
      "Epoch 20/50\n",
      "70/70 [==============================] - 5s 72ms/step - loss: 0.0753 - accuracy: 0.9774 - val_loss: 0.0754 - val_accuracy: 0.9709\n",
      "Epoch 21/50\n",
      "70/70 [==============================] - 5s 70ms/step - loss: 0.0765 - accuracy: 0.9743 - val_loss: 0.0735 - val_accuracy: 0.9706\n",
      "Epoch 22/50\n",
      "70/70 [==============================] - 5s 68ms/step - loss: 0.0728 - accuracy: 0.9775 - val_loss: 0.0748 - val_accuracy: 0.9711\n",
      "Epoch 23/50\n",
      "70/70 [==============================] - 5s 68ms/step - loss: 0.0706 - accuracy: 0.9802 - val_loss: 0.0720 - val_accuracy: 0.9711\n",
      "Epoch 24/50\n",
      "70/70 [==============================] - 5s 67ms/step - loss: 0.0703 - accuracy: 0.9733 - val_loss: 0.0706 - val_accuracy: 0.9711\n",
      "Epoch 25/50\n",
      "70/70 [==============================] - 5s 68ms/step - loss: 0.0664 - accuracy: 0.9769 - val_loss: 0.0697 - val_accuracy: 0.9683\n",
      "Epoch 26/50\n",
      "70/70 [==============================] - 5s 68ms/step - loss: 0.0663 - accuracy: 0.9776 - val_loss: 0.0686 - val_accuracy: 0.9702\n",
      "Epoch 27/50\n",
      "70/70 [==============================] - 5s 70ms/step - loss: 0.0653 - accuracy: 0.9726 - val_loss: 0.0686 - val_accuracy: 0.9698\n",
      "Epoch 28/50\n",
      "70/70 [==============================] - 5s 68ms/step - loss: 0.0555 - accuracy: 0.9839 - val_loss: 0.0686 - val_accuracy: 0.9696\n",
      "Epoch 29/50\n",
      "70/70 [==============================] - 5s 69ms/step - loss: 0.0576 - accuracy: 0.9803 - val_loss: 0.0670 - val_accuracy: 0.9693\n",
      "Epoch 30/50\n",
      "70/70 [==============================] - 5s 69ms/step - loss: 0.0571 - accuracy: 0.9796 - val_loss: 0.0672 - val_accuracy: 0.9695\n",
      "Epoch 31/50\n",
      "70/70 [==============================] - 5s 69ms/step - loss: 0.0551 - accuracy: 0.9796 - val_loss: 0.0656 - val_accuracy: 0.9696\n",
      "Epoch 32/50\n",
      "70/70 [==============================] - 5s 69ms/step - loss: 0.0560 - accuracy: 0.9763 - val_loss: 0.0675 - val_accuracy: 0.9669\n",
      "Epoch 33/50\n",
      "70/70 [==============================] - 5s 69ms/step - loss: 0.0534 - accuracy: 0.9803 - val_loss: 0.0677 - val_accuracy: 0.9683\n"
     ]
    }
   ],
   "source": [
    "model.compile(optimizer='adam', loss='mae', metrics='accuracy')\n",
    "\n",
    "Es=EarlyStopping(monitor='val_loss', patience=2, restore_best_weights=True) \n",
    "\n",
    "history = model.fit(X_train, y_train,\n",
    "                    epochs=50,\n",
    "                    batch_size=batch_size,\n",
    "                    validation_data=(X_test,y_test),callbacks = Es)"
   ]
  },
  {
   "cell_type": "code",
   "execution_count": 213,
   "metadata": {
    "colab": {
     "base_uri": "https://localhost:8080/"
    },
    "executionInfo": {
     "elapsed": 1237,
     "status": "ok",
     "timestamp": 1609558302288,
     "user": {
      "displayName": "YUANYUAN QU",
      "photoUrl": "",
      "userId": "16657437227704130618"
     },
     "user_tz": 360
    },
    "id": "gNKFaYu6Iqy9",
    "outputId": "a7c3328b-8d12-45c3-b896-3750e4ea10f4"
   },
   "outputs": [
    {
     "name": "stdout",
     "output_type": "stream",
     "text": [
      "119/119 [==============================] - 1s 6ms/step - loss: 0.0625 - accuracy: 0.9721\n",
      "test loss:\t 0.06254501640796661 \n",
      "test accuracy:\t 0.9721345901489258\n"
     ]
    }
   ],
   "source": [
    "result=model.evaluate(X_validation, y_validation)\n",
    "print(\"test loss:\\t\",result[0],\"\\ntest accuracy:\\t\",result[1])\n",
    "\n",
    "keras.backend.clear_session()\n",
    "del model"
   ]
  },
  {
   "cell_type": "code",
   "execution_count": 189,
   "metadata": {
    "colab": {
     "base_uri": "https://localhost:8080/",
     "height": 281
    },
    "executionInfo": {
     "elapsed": 419,
     "status": "ok",
     "timestamp": 1609547482681,
     "user": {
      "displayName": "YUANYUAN QU",
      "photoUrl": "",
      "userId": "16657437227704130618"
     },
     "user_tz": 360
    },
    "id": "6VmGf8ShWI_1",
    "outputId": "57a1cdab-6bda-4945-e4c3-bf6c5c14a843"
   },
   "outputs": [
    {
     "data": {
      "image/png": "[encoded data removed]",
      "text/plain": [
       "<Figure size 432x288 with 1 Axes>"
      ]
     },
     "metadata": {
      "needs_background": "light",
      "tags": []
     },
     "output_type": "display_data"
    }
   ],
   "source": [
    "acc = history.history['accuracy']\n",
    "val_acc = history.history['val_accuracy']\n",
    "loss = history.history['loss']\n",
    "val_loss = history.history['val_loss']\n",
    "\n",
    "epochs = range(len(loss))\n",
    "\n",
    "plt.plot(epochs, acc, 'r', label='Training acc')\n",
    "plt.plot(epochs, val_acc, 'b', label='Validation acc')\n",
    "plt.title('Training and validation acc')\n",
    "plt.legend()\n",
    "plt.ylim(ymax=1,ymin=0.1)\n",
    "\n",
    "plt.show()"
   ]
  },
  {
   "cell_type": "markdown",
   "metadata": {
    "id": "v4KQlEFzNKyy"
   },
   "source": [
    "## Regularization with Bidirectional - too complicated for this data set, won't consider for now"
   ]
  },
  {
   "cell_type": "code",
   "execution_count": 66,
   "metadata": {
    "colab": {
     "base_uri": "https://localhost:8080/"
    },
    "executionInfo": {
     "elapsed": 1179,
     "status": "ok",
     "timestamp": 1609532901193,
     "user": {
      "displayName": "YUANYUAN QU",
      "photoUrl": "",
      "userId": "16657437227704130618"
     },
     "user_tz": 360
    },
    "id": "GLFoD7MlNKJ1",
    "outputId": "3421a7e5-c4b8-4631-90d0-89acdbd83b90"
   },
   "outputs": [
    {
     "name": "stdout",
     "output_type": "stream",
     "text": [
      "Model: \"sequential\"\n",
      "_________________________________________________________________\n",
      "Layer (type)                 Output Shape              Param #   \n",
      "=================================================================\n",
      "embedding (Embedding)        (None, 100, 64)           128000    \n",
      "_________________________________________________________________\n",
      "conv1d (Conv1D)              (None, 96, 32)            10272     \n",
      "_________________________________________________________________\n",
      "max_pooling1d (MaxPooling1D) (None, 32, 32)            0         \n",
      "_________________________________________________________________\n",
      "conv1d_1 (Conv1D)            (None, 28, 16)            2576      \n",
      "_________________________________________________________________\n",
      "bidirectional (Bidirectional (None, 28, 64)            12544     \n",
      "_________________________________________________________________\n",
      "bidirectional_1 (Bidirection (None, 32)                10368     \n",
      "_________________________________________________________________\n",
      "dense (Dense)                (None, 1)                 33        \n",
      "=================================================================\n",
      "Total params: 163,793\n",
      "Trainable params: 163,793\n",
      "Non-trainable params: 0\n",
      "_________________________________________________________________\n"
     ]
    }
   ],
   "source": [
    "model = Sequential()\n",
    "model.add(Embedding(max_features, 64, input_length=max_len))\n",
    "model.add(layers.Conv1D(32, 5, activation='relu'))\n",
    "model.add(layers.MaxPooling1D(3))\n",
    "model.add(layers.Conv1D(16, 5, activation='relu'))\n",
    "model.add(layers.Bidirectional(layers.LSTM(32,dropout=0.6,recurrent_dropout=0.5,return_sequences=True)))\n",
    "model.add(layers.Bidirectional(layers.LSTM(16,dropout=0.6,recurrent_dropout=0.5)))\n",
    "model.add(layers.Dense(1))\n",
    "\n",
    "model.summary()"
   ]
  },
  {
   "cell_type": "code",
   "execution_count": 67,
   "metadata": {
    "colab": {
     "base_uri": "https://localhost:8080/"
    },
    "executionInfo": {
     "elapsed": 67128,
     "status": "ok",
     "timestamp": 1609532969395,
     "user": {
      "displayName": "YUANYUAN QU",
      "photoUrl": "",
      "userId": "16657437227704130618"
     },
     "user_tz": 360
    },
    "id": "Zt0vG18kNXyW",
    "outputId": "cadaa824-a623-47cb-d5b7-0b5aa411f1f1"
   },
   "outputs": [
    {
     "name": "stdout",
     "output_type": "stream",
     "text": [
      "Epoch 1/3\n",
      "139/139 [==============================] - 30s 140ms/step - loss: 0.3956 - accuracy: 0.6328 - val_loss: 0.0937 - val_accuracy: 0.9503\n",
      "Epoch 2/3\n",
      "139/139 [==============================] - 18s 131ms/step - loss: 0.0878 - accuracy: 0.9646 - val_loss: 0.0592 - val_accuracy: 0.9575\n",
      "Epoch 3/3\n",
      "139/139 [==============================] - 18s 131ms/step - loss: 0.0464 - accuracy: 0.9772 - val_loss: 0.0570 - val_accuracy: 0.9547\n"
     ]
    }
   ],
   "source": [
    "model.compile(optimizer='adam', loss='mae', metrics='accuracy')\n",
    "\n",
    "#Es=EarlyStopping(monitor='val_loss', patience=2, restore_best_weights=True) \n",
    "\n",
    "history = model.fit(X_train, y_train,\n",
    "                    epochs=3,\n",
    "                    batch_size=batch_size,\n",
    "                    validation_data=(X_test,y_test))\n",
    "#,callbacks = Es\n",
    "\n",
    "\n",
    "keras.backend.clear_session()"
   ]
  },
  {
   "cell_type": "code",
   "execution_count": 52,
   "metadata": {
    "colab": {
     "base_uri": "https://localhost:8080/",
     "height": 281
    },
    "executionInfo": {
     "elapsed": 569,
     "status": "ok",
     "timestamp": 1609315430300,
     "user": {
      "displayName": "YUANYUAN QU",
      "photoUrl": "",
      "userId": "16657437227704130618"
     },
     "user_tz": 360
    },
    "id": "EH9Uetykk5I1",
    "outputId": "d227c4e1-0217-481f-98e6-5f5932ac36c4"
   },
   "outputs": [
    {
     "data": {
      "image/png": "[encoded data removed]",
      "text/plain": [
       "<Figure size 432x288 with 1 Axes>"
      ]
     },
     "metadata": {
      "needs_background": "light",
      "tags": []
     },
     "output_type": "display_data"
    }
   ],
   "source": [
    "acc = history.history['accuracy']\n",
    "val_acc = history.history['val_accuracy']\n",
    "loss = history.history['loss']\n",
    "val_loss = history.history['val_loss']\n",
    "\n",
    "epochs = range(len(loss))\n",
    "\n",
    "plt.plot(epochs, acc, 'r', label='Training acc')\n",
    "plt.plot(epochs, val_acc, 'b', label='Validation acc')\n",
    "plt.title('Training and validation acc')\n",
    "plt.legend()\n",
    "plt.ylim(ymax=1,ymin=0.8)\n",
    "\n",
    "plt.show()"
   ]
  },
  {
   "cell_type": "markdown",
   "metadata": {
    "id": "cN24E3aVNc1e"
   },
   "source": [
    "chapter 4.4 glove\n",
    "+dropout\n",
    "+减少neurons\n",
    "+batch size 往大调\n",
    "+max_len 试试往小调\n",
    "+max_feature 18000\n",
    "+activation function sigmoid"
   ]
  },
  {
   "cell_type": "markdown",
   "metadata": {
    "id": "c9EtuVQb9YZ8"
   },
   "source": [
    "## GloVe Embedding"
   ]
  },
  {
   "cell_type": "code",
   "execution_count": 162,
   "metadata": {
    "colab": {
     "base_uri": "https://localhost:8080/"
    },
    "executionInfo": {
     "elapsed": 413438,
     "status": "ok",
     "timestamp": 1609544384270,
     "user": {
      "displayName": "YUANYUAN QU",
      "photoUrl": "",
      "userId": "16657437227704130618"
     },
     "user_tz": 360
    },
    "id": "Kc1sodu_9WYQ",
    "outputId": "3a5bfe27-c28f-4d03-cfd0-aaaae5f480dd"
   },
   "outputs": [
    {
     "name": "stdout",
     "output_type": "stream",
     "text": [
      "Downloading...\n",
      "Uncompressing...\n",
      "Archive:  glove.6B.zip\n",
      "  inflating: glove.6B.50d.txt        \n",
      "  inflating: glove.6B.100d.txt       \n",
      "  inflating: glove.6B.200d.txt       \n",
      "  inflating: glove.6B.300d.txt       \n"
     ]
    }
   ],
   "source": [
    "import requests  \n",
    "import os  \n",
    "file_url = \"http://nlp.stanford.edu/data/glove.6B.zip\"\n",
    "    \n",
    "r = requests.get(file_url, stream = True)  \n",
    "\n",
    "if not os.path.exists(\"glove.6B.zip\"):\n",
    "  print(\"Downloading...\")\n",
    "  with open(\"glove.6B.zip\", \"wb\") as file:  \n",
    "    for block in r.iter_content(chunk_size = 1024): \n",
    "      if block:  \n",
    "        file.write(block)  \n",
    "else:\n",
    "  print(\"Archive file already existed. Delete the original zip file if you want to re-download\")\n",
    "\n",
    "\n",
    "print(\"Uncompressing...\")\n",
    "!unzip 'glove.6B.zip'"
   ]
  },
  {
   "cell_type": "code",
   "execution_count": 164,
   "metadata": {
    "colab": {
     "base_uri": "https://localhost:8080/"
    },
    "executionInfo": {
     "elapsed": 10617,
     "status": "ok",
     "timestamp": 1609545112382,
     "user": {
      "displayName": "YUANYUAN QU",
      "photoUrl": "",
      "userId": "16657437227704130618"
     },
     "user_tz": 360
    },
    "id": "Y4YnOtdm9jex",
    "outputId": "f83ccfbf-d678-4ec1-f391-9ae5845bb611"
   },
   "outputs": [
    {
     "name": "stdout",
     "output_type": "stream",
     "text": [
      "Found 400000 word vectors.\n"
     ]
    }
   ],
   "source": [
    "import numpy as np\n",
    "\n",
    "# glove_dir = '/home/ubuntu/data/'\n",
    "#glove_dir = '/content/glove/'\n",
    "glove_dir='./'\n",
    "\n",
    "embeddings_index = {}\n",
    "f = open(os.path.join(glove_dir, 'glove.6B.100d.txt'))\n",
    "for line in f:\n",
    "    values = line.split()\n",
    "    word = values[0]\n",
    "    coefs = np.asarray(values[1:], dtype='float32')\n",
    "    embeddings_index[word] = coefs\n",
    "f.close()\n",
    "\n",
    "print('Found %s word vectors.' % len(embeddings_index))"
   ]
  },
  {
   "cell_type": "code",
   "execution_count": 193,
   "metadata": {
    "executionInfo": {
     "elapsed": 1172,
     "status": "ok",
     "timestamp": 1609548001703,
     "user": {
      "displayName": "YUANYUAN QU",
      "photoUrl": "",
      "userId": "16657437227704130618"
     },
     "user_tz": 360
    },
    "id": "M9jbm2G4hbck"
   },
   "outputs": [],
   "source": [
    "max_words = 10000 #max_features\n",
    "tokenizer = Tokenizer(num_words=max_words)\n",
    "tokenizer.fit_on_texts(text)\n",
    "sequences = tokenizer.texts_to_sequences(text)\n",
    "word_index = tokenizer.word_index\n",
    "\n",
    "data = pad_sequences(sequences, maxlen=max_len)"
   ]
  },
  {
   "cell_type": "code",
   "execution_count": 194,
   "metadata": {
    "executionInfo": {
     "elapsed": 332,
     "status": "ok",
     "timestamp": 1609550046959,
     "user": {
      "displayName": "YUANYUAN QU",
      "photoUrl": "",
      "userId": "16657437227704130618"
     },
     "user_tz": 360
    },
    "id": "o2nPfykF9lXT"
   },
   "outputs": [],
   "source": [
    "embedding_dim = 100\n",
    "\n",
    "embedding_matrix = np.zeros((max_features, embedding_dim))\n",
    "for word, i in word_index.items():\n",
    "    embedding_vector = embeddings_index.get(word)\n",
    "    if i < max_features:\n",
    "        if embedding_vector is not None:\n",
    "            # Words not found in embedding index will be all-zeros.\n",
    "            embedding_matrix[i] = embedding_vector"
   ]
  },
  {
   "cell_type": "code",
   "execution_count": 203,
   "metadata": {
    "colab": {
     "base_uri": "https://localhost:8080/"
    },
    "executionInfo": {
     "elapsed": 581,
     "status": "ok",
     "timestamp": 1609552117481,
     "user": {
      "displayName": "YUANYUAN QU",
      "photoUrl": "",
      "userId": "16657437227704130618"
     },
     "user_tz": 360
    },
    "id": "hSEdQxcy9ssx",
    "outputId": "081e9ee0-50ff-4bb3-f7d7-42d85dab0893"
   },
   "outputs": [
    {
     "name": "stdout",
     "output_type": "stream",
     "text": [
      "Model: \"sequential_1\"\n",
      "_________________________________________________________________\n",
      "Layer (type)                 Output Shape              Param #   \n",
      "=================================================================\n",
      "embedding_1 (Embedding)      (None, 100, 100)          1500000   \n",
      "_________________________________________________________________\n",
      "conv1d_2 (Conv1D)            (None, 96, 10)            5010      \n",
      "_________________________________________________________________\n",
      "max_pooling1d_1 (MaxPooling1 (None, 32, 10)            0         \n",
      "_________________________________________________________________\n",
      "conv1d_3 (Conv1D)            (None, 28, 5)             255       \n",
      "_________________________________________________________________\n",
      "dropout_1 (Dropout)          (None, 28, 5)             0         \n",
      "_________________________________________________________________\n",
      "lstm_2 (LSTM)                (None, 4)                 160       \n",
      "_________________________________________________________________\n",
      "dense_1 (Dense)              (None, 1)                 5         \n",
      "=================================================================\n",
      "Total params: 1,505,430\n",
      "Trainable params: 1,505,430\n",
      "Non-trainable params: 0\n",
      "_________________________________________________________________\n"
     ]
    }
   ],
   "source": [
    "model = Sequential()\n",
    "model.add(Embedding(max_features, embedding_dim, input_length=max_len))\n",
    "model.add(layers.Conv1D(10, 5, activation='relu',kernel_regularizer=\"l2\"))\n",
    "model.add(layers.MaxPooling1D(3))\n",
    "model.add(layers.Conv1D(5, 5, activation='relu',kernel_regularizer=\"l2\"))\n",
    "model.add(Dropout(0.5))\n",
    "model.add(layers.LSTM(4,dropout=0.5,recurrent_dropout=0.5))\n",
    "#model.add(layers.LSTM(8,dropout=0.4))\n",
    "model.add(layers.Dense(1))\n",
    "\n",
    "model.summary()\n",
    "\n",
    "model.layers[0].set_weights([embedding_matrix])\n",
    "model.layers[0].trainable = False"
   ]
  },
  {
   "cell_type": "code",
   "execution_count": 204,
   "metadata": {
    "colab": {
     "base_uri": "https://localhost:8080/"
    },
    "executionInfo": {
     "elapsed": 230868,
     "status": "ok",
     "timestamp": 1609552349580,
     "user": {
      "displayName": "YUANYUAN QU",
      "photoUrl": "",
      "userId": "16657437227704130618"
     },
     "user_tz": 360
    },
    "id": "XUWOAub_goi7",
    "outputId": "0504d72e-bd45-47e5-c0ae-ff33b7e721df"
   },
   "outputs": [
    {
     "name": "stdout",
     "output_type": "stream",
     "text": [
      "Epoch 1/50\n",
      "70/70 [==============================] - 8s 70ms/step - loss: 0.7825 - accuracy: 0.3837 - val_loss: 0.5208 - val_accuracy: 0.8112\n",
      "Epoch 2/50\n",
      "70/70 [==============================] - 4s 64ms/step - loss: 0.4944 - accuracy: 0.6658 - val_loss: 0.2941 - val_accuracy: 0.7944\n",
      "Epoch 3/50\n",
      "70/70 [==============================] - 4s 64ms/step - loss: 0.3585 - accuracy: 0.7315 - val_loss: 0.2466 - val_accuracy: 0.8191\n",
      "Epoch 4/50\n",
      "70/70 [==============================] - 5s 65ms/step - loss: 0.3053 - accuracy: 0.7830 - val_loss: 0.2255 - val_accuracy: 0.8305\n",
      "Epoch 5/50\n",
      "70/70 [==============================] - 4s 64ms/step - loss: 0.2739 - accuracy: 0.8104 - val_loss: 0.1975 - val_accuracy: 0.8633\n",
      "Epoch 6/50\n",
      "70/70 [==============================] - 4s 64ms/step - loss: 0.2493 - accuracy: 0.8305 - val_loss: 0.1936 - val_accuracy: 0.8754\n",
      "Epoch 7/50\n",
      "70/70 [==============================] - 5s 65ms/step - loss: 0.2262 - accuracy: 0.8460 - val_loss: 0.1716 - val_accuracy: 0.8944\n",
      "Epoch 8/50\n",
      "70/70 [==============================] - 5s 65ms/step - loss: 0.1982 - accuracy: 0.8705 - val_loss: 0.1613 - val_accuracy: 0.8988\n",
      "Epoch 9/50\n",
      "70/70 [==============================] - 4s 64ms/step - loss: 0.1887 - accuracy: 0.8732 - val_loss: 0.1541 - val_accuracy: 0.9004\n",
      "Epoch 10/50\n",
      "70/70 [==============================] - 5s 65ms/step - loss: 0.1750 - accuracy: 0.8847 - val_loss: 0.1553 - val_accuracy: 0.8986\n",
      "Epoch 11/50\n",
      "70/70 [==============================] - 4s 64ms/step - loss: 0.1769 - accuracy: 0.8792 - val_loss: 0.1481 - val_accuracy: 0.9028\n",
      "Epoch 12/50\n",
      "70/70 [==============================] - 5s 64ms/step - loss: 0.1736 - accuracy: 0.8841 - val_loss: 0.1459 - val_accuracy: 0.9080\n",
      "Epoch 13/50\n",
      "70/70 [==============================] - 4s 64ms/step - loss: 0.1647 - accuracy: 0.8937 - val_loss: 0.1437 - val_accuracy: 0.9095\n",
      "Epoch 14/50\n",
      "70/70 [==============================] - 5s 65ms/step - loss: 0.1694 - accuracy: 0.8880 - val_loss: 0.1387 - val_accuracy: 0.9104\n",
      "Epoch 15/50\n",
      "70/70 [==============================] - 4s 64ms/step - loss: 0.1666 - accuracy: 0.8924 - val_loss: 0.1413 - val_accuracy: 0.9098\n",
      "Epoch 16/50\n",
      "70/70 [==============================] - 4s 64ms/step - loss: 0.1582 - accuracy: 0.8999 - val_loss: 0.1410 - val_accuracy: 0.9082\n",
      "Epoch 17/50\n",
      "70/70 [==============================] - 5s 65ms/step - loss: 0.1538 - accuracy: 0.9044 - val_loss: 0.1420 - val_accuracy: 0.9082\n",
      "Epoch 18/50\n",
      "70/70 [==============================] - 5s 67ms/step - loss: 0.1649 - accuracy: 0.8929 - val_loss: 0.1390 - val_accuracy: 0.9176\n",
      "Epoch 19/50\n",
      "70/70 [==============================] - 5s 67ms/step - loss: 0.1580 - accuracy: 0.9030 - val_loss: 0.1356 - val_accuracy: 0.9124\n",
      "Epoch 20/50\n",
      "70/70 [==============================] - 5s 65ms/step - loss: 0.1546 - accuracy: 0.9021 - val_loss: 0.1334 - val_accuracy: 0.9161\n",
      "Epoch 21/50\n",
      "70/70 [==============================] - 5s 65ms/step - loss: 0.1503 - accuracy: 0.9048 - val_loss: 0.1329 - val_accuracy: 0.9194\n",
      "Epoch 22/50\n",
      "70/70 [==============================] - 5s 65ms/step - loss: 0.1444 - accuracy: 0.9130 - val_loss: 0.1317 - val_accuracy: 0.9179\n",
      "Epoch 23/50\n",
      "70/70 [==============================] - 5s 65ms/step - loss: 0.1391 - accuracy: 0.9175 - val_loss: 0.1280 - val_accuracy: 0.9194\n",
      "Epoch 24/50\n",
      "70/70 [==============================] - 4s 64ms/step - loss: 0.1410 - accuracy: 0.9183 - val_loss: 0.1385 - val_accuracy: 0.9106\n",
      "Epoch 25/50\n",
      "70/70 [==============================] - 5s 65ms/step - loss: 0.1396 - accuracy: 0.9181 - val_loss: 0.1283 - val_accuracy: 0.9214\n",
      "Epoch 26/50\n",
      "70/70 [==============================] - 5s 69ms/step - loss: 0.1425 - accuracy: 0.9160 - val_loss: 0.1298 - val_accuracy: 0.9233\n",
      "Epoch 27/50\n",
      "70/70 [==============================] - 5s 74ms/step - loss: 0.1323 - accuracy: 0.9264 - val_loss: 0.1299 - val_accuracy: 0.9187\n",
      "Epoch 28/50\n",
      "70/70 [==============================] - 5s 64ms/step - loss: 0.1352 - accuracy: 0.9231 - val_loss: 0.1277 - val_accuracy: 0.9207\n",
      "Epoch 29/50\n",
      "70/70 [==============================] - 5s 65ms/step - loss: 0.1320 - accuracy: 0.9266 - val_loss: 0.1257 - val_accuracy: 0.9211\n",
      "Epoch 30/50\n",
      "70/70 [==============================] - 5s 65ms/step - loss: 0.1343 - accuracy: 0.9233 - val_loss: 0.1269 - val_accuracy: 0.9253\n",
      "Epoch 31/50\n",
      "70/70 [==============================] - 4s 64ms/step - loss: 0.1323 - accuracy: 0.9225 - val_loss: 0.1300 - val_accuracy: 0.9205\n",
      "Epoch 32/50\n",
      "70/70 [==============================] - 5s 65ms/step - loss: 0.1230 - accuracy: 0.9340 - val_loss: 0.1246 - val_accuracy: 0.9203\n",
      "Epoch 33/50\n",
      "70/70 [==============================] - 5s 65ms/step - loss: 0.1259 - accuracy: 0.9316 - val_loss: 0.1405 - val_accuracy: 0.9087\n",
      "Epoch 34/50\n",
      "70/70 [==============================] - 5s 64ms/step - loss: 0.1308 - accuracy: 0.9243 - val_loss: 0.1290 - val_accuracy: 0.9255\n",
      "Epoch 35/50\n",
      "70/70 [==============================] - 4s 64ms/step - loss: 0.1298 - accuracy: 0.9261 - val_loss: 0.1248 - val_accuracy: 0.9233\n",
      "Epoch 36/50\n",
      "70/70 [==============================] - 5s 65ms/step - loss: 0.1200 - accuracy: 0.9323 - val_loss: 0.1226 - val_accuracy: 0.9220\n",
      "Epoch 37/50\n",
      "70/70 [==============================] - 5s 66ms/step - loss: 0.1275 - accuracy: 0.9284 - val_loss: 0.1221 - val_accuracy: 0.9297\n",
      "Epoch 38/50\n",
      "70/70 [==============================] - 5s 65ms/step - loss: 0.1241 - accuracy: 0.9324 - val_loss: 0.1301 - val_accuracy: 0.9190\n",
      "Epoch 39/50\n",
      "70/70 [==============================] - 4s 64ms/step - loss: 0.1257 - accuracy: 0.9277 - val_loss: 0.1239 - val_accuracy: 0.9277\n",
      "Epoch 40/50\n",
      "70/70 [==============================] - 5s 65ms/step - loss: 0.1195 - accuracy: 0.9345 - val_loss: 0.1222 - val_accuracy: 0.9284\n",
      "Epoch 41/50\n",
      "70/70 [==============================] - 5s 66ms/step - loss: 0.1148 - accuracy: 0.9405 - val_loss: 0.1241 - val_accuracy: 0.9249\n",
      "Epoch 42/50\n",
      "70/70 [==============================] - 5s 65ms/step - loss: 0.1216 - accuracy: 0.9318 - val_loss: 0.1230 - val_accuracy: 0.9286\n",
      "Epoch 43/50\n",
      "70/70 [==============================] - 5s 65ms/step - loss: 0.1169 - accuracy: 0.9369 - val_loss: 0.1374 - val_accuracy: 0.9106\n",
      "Epoch 44/50\n",
      "70/70 [==============================] - 5s 65ms/step - loss: 0.1187 - accuracy: 0.9358 - val_loss: 0.1311 - val_accuracy: 0.9225\n",
      "Epoch 45/50\n",
      "70/70 [==============================] - 5s 64ms/step - loss: 0.1234 - accuracy: 0.9302 - val_loss: 0.1227 - val_accuracy: 0.9266\n",
      "Epoch 46/50\n",
      "70/70 [==============================] - 5s 65ms/step - loss: 0.1103 - accuracy: 0.9448 - val_loss: 0.1254 - val_accuracy: 0.9233\n",
      "Epoch 47/50\n",
      "70/70 [==============================] - 5s 65ms/step - loss: 0.1145 - accuracy: 0.9373 - val_loss: 0.1204 - val_accuracy: 0.9277\n",
      "Epoch 48/50\n",
      "70/70 [==============================] - 4s 64ms/step - loss: 0.1089 - accuracy: 0.9460 - val_loss: 0.1240 - val_accuracy: 0.9247\n",
      "Epoch 49/50\n",
      "70/70 [==============================] - 5s 65ms/step - loss: 0.1094 - accuracy: 0.9420 - val_loss: 0.1212 - val_accuracy: 0.9277\n",
      "Epoch 50/50\n",
      "70/70 [==============================] - 5s 64ms/step - loss: 0.1149 - accuracy: 0.9362 - val_loss: 0.1350 - val_accuracy: 0.9163\n"
     ]
    }
   ],
   "source": [
    "model.compile(optimizer='adam', loss='mae', metrics='accuracy')\n",
    "\n",
    "#Es=EarlyStopping(monitor='val_loss', patience=2, restore_best_weights=True) \n",
    "\n",
    "history = model.fit(X_train, y_train,\n",
    "                    epochs=50,\n",
    "                    batch_size=batch_size,\n",
    "                    validation_data=(X_test,y_test))\n",
    "#,callbacks = Es\n",
    "\n",
    "keras.backend.clear_session()\n",
    "del model"
   ]
  },
  {
   "cell_type": "markdown",
   "metadata": {
    "id": "EX3v_TSGrPqS"
   },
   "source": [
    "### Increase neurons - even worse\n",
    "### add more layers to make the architecture - worse"
   ]
  },
  {
   "cell_type": "code",
   "execution_count": 202,
   "metadata": {
    "colab": {
     "base_uri": "https://localhost:8080/"
    },
    "executionInfo": {
     "elapsed": 887,
     "status": "ok",
     "timestamp": 1609552095843,
     "user": {
      "displayName": "YUANYUAN QU",
      "photoUrl": "",
      "userId": "16657437227704130618"
     },
     "user_tz": 360
    },
    "id": "HpxB_zvMrTXp",
    "outputId": "70810f99-5970-4b75-a1c8-148f059aabc4"
   },
   "outputs": [
    {
     "name": "stdout",
     "output_type": "stream",
     "text": [
      "Model: \"sequential\"\n",
      "_________________________________________________________________\n",
      "Layer (type)                 Output Shape              Param #   \n",
      "=================================================================\n",
      "embedding (Embedding)        (None, 100, 100)          1500000   \n",
      "_________________________________________________________________\n",
      "conv1d (Conv1D)              (None, 96, 16)            8016      \n",
      "_________________________________________________________________\n",
      "max_pooling1d (MaxPooling1D) (None, 32, 16)            0         \n",
      "_________________________________________________________________\n",
      "conv1d_1 (Conv1D)            (None, 28, 8)             648       \n",
      "_________________________________________________________________\n",
      "dropout (Dropout)            (None, 28, 8)             0         \n",
      "_________________________________________________________________\n",
      "lstm (LSTM)                  (None, 28, 8)             544       \n",
      "_________________________________________________________________\n",
      "lstm_1 (LSTM)                (None, 8)                 544       \n",
      "_________________________________________________________________\n",
      "dense (Dense)                (None, 1)                 9         \n",
      "=================================================================\n",
      "Total params: 1,509,761\n",
      "Trainable params: 1,509,761\n",
      "Non-trainable params: 0\n",
      "_________________________________________________________________\n"
     ]
    }
   ],
   "source": [
    "model = Sequential()\n",
    "model.add(Embedding(max_features, embedding_dim, input_length=max_len))\n",
    "model.add(layers.Conv1D(16, 5, activation='relu',kernel_regularizer=\"l2\"))\n",
    "model.add(layers.MaxPooling1D(3))\n",
    "model.add(layers.Conv1D(8, 5, activation='relu'))\n",
    "model.add(Dropout(0.5))\n",
    "model.add(layers.LSTM(8,dropout=0.5,recurrent_dropout=0.5,return_sequences=True))\n",
    "model.add(layers.LSTM(8,dropout=0.4))\n",
    "model.add(layers.Dense(1))\n",
    "\n",
    "model.summary()\n",
    "\n",
    "model.layers[0].set_weights([embedding_matrix])\n",
    "model.layers[0].trainable = False"
   ]
  },
  {
   "cell_type": "code",
   "execution_count": 201,
   "metadata": {
    "colab": {
     "base_uri": "https://localhost:8080/"
    },
    "executionInfo": {
     "elapsed": 100266,
     "status": "ok",
     "timestamp": 1609550986944,
     "user": {
      "displayName": "YUANYUAN QU",
      "photoUrl": "",
      "userId": "16657437227704130618"
     },
     "user_tz": 360
    },
    "id": "ZrAV2jberWni",
    "outputId": "61805fee-a6d6-4f2d-f10b-76ff946d01d4"
   },
   "outputs": [
    {
     "name": "stdout",
     "output_type": "stream",
     "text": [
      "Epoch 1/50\n",
      "70/70 [==============================] - 11s 90ms/step - loss: 0.7681 - accuracy: 0.4046 - val_loss: 0.3391 - val_accuracy: 0.7933\n",
      "Epoch 2/50\n",
      "70/70 [==============================] - 5s 78ms/step - loss: 0.3462 - accuracy: 0.7428 - val_loss: 0.2532 - val_accuracy: 0.8241\n",
      "Epoch 3/50\n",
      "70/70 [==============================] - 6s 79ms/step - loss: 0.2710 - accuracy: 0.8193 - val_loss: 0.2199 - val_accuracy: 0.8719\n",
      "Epoch 4/50\n",
      "70/70 [==============================] - 6s 80ms/step - loss: 0.2352 - accuracy: 0.8486 - val_loss: 0.1872 - val_accuracy: 0.8793\n",
      "Epoch 5/50\n",
      "70/70 [==============================] - 6s 79ms/step - loss: 0.2052 - accuracy: 0.8739 - val_loss: 0.1672 - val_accuracy: 0.9067\n",
      "Epoch 6/50\n",
      "70/70 [==============================] - 6s 79ms/step - loss: 0.1815 - accuracy: 0.8905 - val_loss: 0.1394 - val_accuracy: 0.9165\n",
      "Epoch 7/50\n",
      "70/70 [==============================] - 6s 80ms/step - loss: 0.1554 - accuracy: 0.9072 - val_loss: 0.1543 - val_accuracy: 0.8846\n",
      "Epoch 8/50\n",
      "70/70 [==============================] - 6s 79ms/step - loss: 0.1462 - accuracy: 0.9074 - val_loss: 0.1271 - val_accuracy: 0.9249\n",
      "Epoch 9/50\n",
      "70/70 [==============================] - 6s 84ms/step - loss: 0.1358 - accuracy: 0.9129 - val_loss: 0.1242 - val_accuracy: 0.9280\n",
      "Epoch 10/50\n",
      "70/70 [==============================] - 6s 79ms/step - loss: 0.1291 - accuracy: 0.9193 - val_loss: 0.1199 - val_accuracy: 0.9251\n",
      "Epoch 11/50\n",
      "70/70 [==============================] - 6s 79ms/step - loss: 0.1265 - accuracy: 0.9228 - val_loss: 0.1165 - val_accuracy: 0.9312\n",
      "Epoch 12/50\n",
      "70/70 [==============================] - 6s 79ms/step - loss: 0.1131 - accuracy: 0.9287 - val_loss: 0.1187 - val_accuracy: 0.9211\n",
      "Epoch 13/50\n",
      "70/70 [==============================] - 6s 79ms/step - loss: 0.1118 - accuracy: 0.9288 - val_loss: 0.1149 - val_accuracy: 0.9301\n",
      "Epoch 14/50\n",
      "70/70 [==============================] - 6s 80ms/step - loss: 0.1149 - accuracy: 0.9289 - val_loss: 0.1146 - val_accuracy: 0.9299\n",
      "Epoch 15/50\n",
      "70/70 [==============================] - 6s 79ms/step - loss: 0.1047 - accuracy: 0.9391 - val_loss: 0.1136 - val_accuracy: 0.9279\n",
      "Epoch 16/50\n",
      "70/70 [==============================] - 6s 80ms/step - loss: 0.1077 - accuracy: 0.9313 - val_loss: 0.1173 - val_accuracy: 0.9251\n",
      "Epoch 17/50\n",
      "70/70 [==============================] - 6s 80ms/step - loss: 0.1038 - accuracy: 0.9379 - val_loss: 0.1207 - val_accuracy: 0.9212\n"
     ]
    }
   ],
   "source": [
    "model.compile(optimizer='adam', loss='mae', metrics='accuracy')\n",
    "\n",
    "#Es=EarlyStopping(monitor='val_loss', patience=2, restore_best_weights=True) \n",
    "\n",
    "history = model.fit(X_train, y_train,\n",
    "                    epochs=100,\n",
    "                    batch_size=batch_size,\n",
    "                    validation_data=(X_test,y_test))\n",
    "\n",
    "keras.backend.clear_session()\n",
    "del model"
   ]
  }
 ],
 "metadata": {
  "colab": {
   "collapsed_sections": [
    "cQ_hPExycS_O"
   ],
   "name": "Data Preprocessing.ipynb",
   "provenance": []
  },
  "kernelspec": {
   "display_name": "Python 3",
   "language": "python",
   "name": "python3"
  },
  "language_info": {
   "codemirror_mode": {
    "name": "ipython",
    "version": 3
   },
   "file_extension": ".py",
   "mimetype": "text/x-python",
   "name": "python",
   "nbconvert_exporter": "python",
   "pygments_lexer": "ipython3",
   "version": "3.7.4"
  }
 },
 "nbformat": 4,
 "nbformat_minor": 1
}
